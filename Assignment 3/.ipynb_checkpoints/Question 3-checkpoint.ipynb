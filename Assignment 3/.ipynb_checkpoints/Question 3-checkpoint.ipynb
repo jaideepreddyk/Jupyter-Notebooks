{
 "cells": [
  {
   "cell_type": "code",
   "execution_count": 3,
   "metadata": {},
   "outputs": [],
   "source": [
    "import numpy as np\n",
    "import time\n",
    "import matplotlib.pyplot as plt\n",
    "%matplotlib inline "
   ]
  },
  {
   "cell_type": "code",
   "execution_count": 7,
   "metadata": {},
   "outputs": [],
   "source": [
    "B=[]\n",
    "op_time_np=list()"
   ]
  },
  {
   "cell_type": "code",
   "execution_count": 39,
   "metadata": {},
   "outputs": [],
   "source": [
    "for i in range(100,250,10):\n",
    "    B=np.random.rand(i)\n",
    "    start=time.time()\n",
    "    np.sort(B)\n",
    "    end=time.time()\n",
    "    elapsed=end-start\n",
    "    op_time_np.append(elapsed)\n"
   ]
  },
  {
   "cell_type": "markdown",
   "metadata": {},
   "source": [
    "##### Sorting using standard python statements"
   ]
  },
  {
   "cell_type": "code",
   "execution_count": 41,
   "metadata": {},
   "outputs": [],
   "source": [
    "def my_sort(B):\n",
    "    for j in range(0,len(B)):\n",
    "        for i in range(0,len(B)-1):\n",
    "            temp=0\n",
    "            if B[i]>B[i+1]:\n",
    "                temp=B[i]\n",
    "                B[i]=B[i+1]\n",
    "                B[i+1]=temp\n",
    "    return B\n",
    "\n",
    "\n",
    "\n",
    "    "
   ]
  },
  {
   "cell_type": "code",
   "execution_count": 42,
   "metadata": {},
   "outputs": [],
   "source": [
    "op_time_std=list()\n",
    "\n",
    "for i in range(100,250,10):\n",
    "    B=np.random.rand(i)\n",
    "    start=time.time()\n",
    "    my_sort(B)\n",
    "    end=time.time()\n",
    "    elapsed=end-start\n",
    "    op_time_std.append(elapsed)\n",
    "    "
   ]
  },
  {
   "cell_type": "code",
   "execution_count": 45,
   "metadata": {},
   "outputs": [
    {
     "data": {
      "text/plain": [
       "[<matplotlib.lines.Line2D at 0x2c2bd5075c0>]"
      ]
     },
     "execution_count": 45,
     "metadata": {},
     "output_type": "execute_result"
    },
    {
     "data": {
      "image/png": "[encoded data removed]",
      "text/plain": [
       "<Figure size 432x288 with 1 Axes>"
      ]
     },
     "metadata": {},
     "output_type": "display_data"
    }
   ],
   "source": [
    "plt.plot(range(100,250,10),op_time_np)\n",
    "plt.plot(range(100,250,10),op_time_std)"
   ]
  },
  {
   "cell_type": "markdown",
   "metadata": {},
   "source": [
    "### Interpretation of the plot:"
   ]
  },
  {
   "cell_type": "markdown",
   "metadata": {},
   "source": [
    "##### Numpy's sorting function uses quick sort for lower order arrays. Time complexity is O(n log(n)) in the best case and in the worst case it is O(n^2). It switches to heap sort for higher order to maintain the time complexity as O(n log(n).The sorting function using standard python statements has a time complexity of O(n^2)."
   ]
  },
  {
   "cell_type": "code",
   "execution_count": null,
   "metadata": {},
   "outputs": [],
   "source": []
  },
  {
   "cell_type": "markdown",
   "metadata": {},
   "source": [
    "## Part b) Determinant"
   ]
  },
  {
   "cell_type": "markdown",
   "metadata": {},
   "source": [
    "### Numpy determinant"
   ]
  },
  {
   "cell_type": "code",
   "execution_count": 8,
   "metadata": {},
   "outputs": [],
   "source": [
    "det_time_np=list()"
   ]
  },
  {
   "cell_type": "code",
   "execution_count": 9,
   "metadata": {},
   "outputs": [],
   "source": [
    "for i in range(2,20,1):\n",
    "    A=np.random.randint(i*i,size=(i,i))\n",
    "    start=time.time()\n",
    "    np.linalg.det(A)\n",
    "    end=time.time()\n",
    "    elapsed=end-start\n",
    "    det_time_np.append(elapsed)\n",
    "    \n",
    "    \n",
    "    \n",
    "    "
   ]
  },
  {
   "cell_type": "markdown",
   "metadata": {},
   "source": [
    "##### det using standard python statements"
   ]
  },
  {
   "cell_type": "code",
   "execution_count": 11,
   "metadata": {},
   "outputs": [],
   "source": [
    "def det(A,n):\n",
    "    if len(A) == 1:\n",
    "        determinant = ((n * A[0][0])*2)/10\n",
    "        return determinant\n",
    "    sign = 1\n",
    "    sumCoeff = 0\n",
    "    for i in range(len(A)):\n",
    "        newMat = []\n",
    "        for j in range(1, len(A)):\n",
    "            coeff = []\n",
    "            for k in range(len(A)):\n",
    "                if k != i:\n",
    "                    coeff.append(A[j][k])\n",
    "            newMat.append(coeff)\n",
    "        sign = -sign \n",
    "        sumCoeff = sumCoeff + n * det(newMat, sign * A[0][i])\n",
    "    return sumCoeff"
   ]
  },
  {
   "cell_type": "code",
   "execution_count": 16,
   "metadata": {},
   "outputs": [],
   "source": [
    "det_time_std=list()"
   ]
  },
  {
   "cell_type": "code",
   "execution_count": 17,
   "metadata": {},
   "outputs": [],
   "source": [
    "for i in range(2,10,1):\n",
    "    A=np.random.randint(i*i,size=(i,i))\n",
    "    start=time.time()\n",
    "    det(A,i)\n",
    "    end=time.time()\n",
    "    elapsed=end-start\n",
    "    det_time_std.append(elapsed)"
   ]
  },
  {
   "cell_type": "markdown",
   "metadata": {},
   "source": [
    "#### Blue : using numpy's determinant                           \n",
    "#### Orange : using standard python statements"
   ]
  },
  {
   "cell_type": "code",
   "execution_count": 168,
   "metadata": {},
   "outputs": [
    {
     "data": {
      "text/plain": [
       "[<matplotlib.lines.Line2D at 0x2c2be8454a8>]"
      ]
     },
     "execution_count": 168,
     "metadata": {},
     "output_type": "execute_result"
    },
    {
     "data": {
      "image/png": "[encoded data removed]",
      "text/plain": [
       "<Figure size 432x288 with 1 Axes>"
      ]
     },
     "metadata": {},
     "output_type": "display_data"
    }
   ],
   "source": [
    "plt.plot(range(2,20,1),det_time_np)\n",
    "plt.plot(range(2,20,1),det_time_std)"
   ]
  },
  {
   "cell_type": "markdown",
   "metadata": {},
   "source": [
    "### Interpretation of the plot:"
   ]
  },
  {
   "cell_type": "markdown",
   "metadata": {},
   "source": [
    "##### Numpy's Determinant uses LU decomposition whose time complexity is O(n^3). The determinant function built using standard python functions is of time complexity O(n!)."
   ]
  },
  {
   "cell_type": "markdown",
   "metadata": {},
   "source": [
    "### part c) Matrix Multiplication"
   ]
  },
  {
   "cell_type": "code",
   "execution_count": 116,
   "metadata": {},
   "outputs": [],
   "source": [
    "mul_time_np=list()"
   ]
  },
  {
   "cell_type": "code",
   "execution_count": 117,
   "metadata": {},
   "outputs": [],
   "source": [
    "for i in range(100,150):\n",
    "    A=np.random.randint(i*i,size=(i,i))\n",
    "    start=time.time()\n",
    "    np.matmul(A,A)\n",
    "    end=time.time()\n",
    "    elapsed=end-start\n",
    "    mul_time_np.append(elapsed)    "
   ]
  },
  {
   "cell_type": "markdown",
   "metadata": {},
   "source": [
    "##### Matrix Multiplication using standard python statements"
   ]
  },
  {
   "cell_type": "code",
   "execution_count": 118,
   "metadata": {},
   "outputs": [],
   "source": [
    "mul_time_std=list()"
   ]
  },
  {
   "cell_type": "code",
   "execution_count": 119,
   "metadata": {},
   "outputs": [],
   "source": [
    "def matmult(a,b):\n",
    "    zip_b = zip(*b)\n",
    "    zip_b = list(zip_b)\n",
    "    return [[sum(ele_a*ele_b for ele_a, ele_b in zip(row_a, col_b)) \n",
    "             for col_b in zip_b] for row_a in a]"
   ]
  },
  {
   "cell_type": "code",
   "execution_count": 120,
   "metadata": {},
   "outputs": [
    {
     "name": "stderr",
     "output_type": "stream",
     "text": [
      "C:\\Users\\Jaideep\\Anaconda3\\lib\\site-packages\\ipykernel_launcher.py:5: RuntimeWarning: overflow encountered in long_scalars\n",
      "  \"\"\"\n"
     ]
    }
   ],
   "source": [
    "for i in range(100,150):\n",
    "    A=np.random.randint(i*i,size=(i,i))\n",
    "    start=time.time()\n",
    "    matmult(A,A)\n",
    "    end=time.time()\n",
    "    elapsed=end-start\n",
    "    mul_time_std.append(elapsed)"
   ]
  },
  {
   "cell_type": "code",
   "execution_count": 121,
   "metadata": {},
   "outputs": [
    {
     "data": {
      "text/plain": [
       "[<matplotlib.lines.Line2D at 0x2c2c0f61cf8>]"
      ]
     },
     "execution_count": 121,
     "metadata": {},
     "output_type": "execute_result"
    },
    {
     "data": {
      "image/png": "[encoded data removed]",
      "text/plain": [
       "<Figure size 432x288 with 1 Axes>"
      ]
     },
     "metadata": {},
     "output_type": "display_data"
    }
   ],
   "source": [
    "plt.plot(range(100,150),mul_time_np)\n",
    "plt.plot(range(100,150),mul_time_std)"
   ]
  },
  {
   "cell_type": "markdown",
   "metadata": {},
   "source": [
    "### Interpretation of the plot:"
   ]
  },
  {
   "cell_type": "markdown",
   "metadata": {},
   "source": [
    "##### Numpy uses highly optimized and carefully tuned BLAS ( basic Linear Algebra Subprograms) for matrix multiplication. The matrix multiplication function using standard python statements is of complexity O(n^3)"
   ]
  },
  {
   "cell_type": "code",
   "execution_count": null,
   "metadata": {},
   "outputs": [],
   "source": []
  }
 ],
 "metadata": {
  "kernelspec": {
   "display_name": "Python 3",
   "language": "python",
   "name": "python3"
  },
  "language_info": {
   "codemirror_mode": {
    "name": "ipython",
    "version": 3
   },
   "file_extension": ".py",
   "mimetype": "text/x-python",
   "name": "python",
   "nbconvert_exporter": "python",
   "pygments_lexer": "ipython3",
   "version": "3.6.5"
  }
 },
 "nbformat": 4,
 "nbformat_minor": 2
}
