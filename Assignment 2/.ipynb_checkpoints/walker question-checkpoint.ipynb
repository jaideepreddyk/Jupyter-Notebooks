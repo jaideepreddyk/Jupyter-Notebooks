{
 "cells": [
  {
   "cell_type": "code",
   "execution_count": 415,
   "metadata": {},
   "outputs": [],
   "source": [
    "import numpy as np"
   ]
  },
  {
   "cell_type": "code",
   "execution_count": 436,
   "metadata": {},
   "outputs": [],
   "source": [
    "import matplotlib.pyplot as plt"
   ]
  },
  {
   "cell_type": "code",
   "execution_count": 437,
   "metadata": {},
   "outputs": [],
   "source": [
    "%matplotlib inline"
   ]
  },
  {
   "cell_type": "code",
   "execution_count": 1209,
   "metadata": {},
   "outputs": [],
   "source": [
    "class walker:                      # positioning is y,x\n",
    "    path=[(0,0)]\n",
    "    x=0\n",
    "    y=0\n",
    "    steps=0\n",
    "    \n",
    "    \n",
    "    \n",
    "    def get_direction(self):\n",
    "         self.direction=np.random.randint(1,5)\n",
    "    \n",
    "    def get_len(self):\n",
    "        self.step_size=np.random.randint(1,7)\n",
    "    \n",
    "    \n",
    "    def walk(self):\n",
    "        if self.direction==1 and walker.y<=20 and walker.y>=-20 and walker.x>=-20 and walker.x<=20:\n",
    "            walker.y=walker.y+self.step_size\n",
    "            walker.steps=walker.steps+1\n",
    "            walker.path.append((walker.x,walker.y))\n",
    "            \n",
    "            \n",
    "            \n",
    "        elif self.direction==2 and walker.y<=20 and walker.y>=-20 and walker.x>=-20 and walker.x<=20:\n",
    "            walker.y=walker.y-self.step_size\n",
    "            walker.steps=walker.steps+1\n",
    "            walker.path.append((walker.x,walker.y))\n",
    "            \n",
    "            \n",
    "            \n",
    "            \n",
    "        elif self.direction==3 and walker.x>=-20 and walker.x<=20 and walker.y<=20 and walker.y>=-20:\n",
    "            walker.x=walker.x+self.step_size\n",
    "            walker.steps=walker.steps+1\n",
    "            walker.path.append((walker.x,walker.y))\n",
    "            \n",
    "            \n",
    "            \n",
    "            \n",
    "        elif self.direction==4 and walker.x>=-20 and walker.x<=20 and walker.y<=20 and walker.y>=-20:\n",
    "            walker.x=walker.x-self.step_size\n",
    "            walker.steps=walker.steps+1\n",
    "            walker.path.append((walker.x,walker.y))\n",
    "        else:\n",
    "            print(\"Took %d steps to go out of bounds\"%walker.steps)\n",
    "            print(walker.path)\n",
    "            x,y=zip(*walker.path)\n",
    "            plt.xlim((-20,20))\n",
    "            plt.ylim((-20,20))\n",
    "            plt.plot(x,y)\n",
    "            plt.plot(x,y,'or')\n",
    "            plt.show()\n",
    "\n",
    "            \n",
    "            \n",
    "    \n",
    "    \n",
    "    \n",
    "    \n",
    "    "
   ]
  },
  {
   "cell_type": "code",
   "execution_count": 1230,
   "metadata": {},
   "outputs": [
    {
     "name": "stdout",
     "output_type": "stream",
     "text": [
      "The taken path is\n",
      "[(0, 0), (0, 6), (0, 9), (0, 7), (-1, 7), (-1, 1), (-4, 1), (-5, 1), (-5, 5), (-8, 5), (-13, 5), (-13, 7), (-9, 7), (-11, 7), (-11, 4), (-11, 10), (-11, 11), (-11, 9), (-11, 4), (-11, 8), (-15, 8), (-20, 8), (-20, 14), (-20, 16), (-22, 16)]\n",
      "The number of steps taken are:24\n"
     ]
    },
    {
     "data": {
      "image/png": "[encoded data removed]",
      "text/plain": [
       "<Figure size 432x288 with 1 Axes>"
      ]
     },
     "metadata": {},
     "output_type": "display_data"
    },
    {
     "name": "stdout",
     "output_type": "stream",
     "text": [
      "The taken path is\n",
      "[(0, 0), (0, 1), (-4, 1), (-4, -1), (-7, -1), (-7, 4), (-10, 4), (-10, 0), (-10, 4), (-8, 4), (-7, 4), (-7, 7), (-7, 10), (-7, 6), (-11, 6), (-11, 10), (-5, 10), (-5, 9), (-5, 8), (-10, 8), (-5, 8), (1, 8), (2, 8), (7, 8), (7, 4), (7, 6), (1, 6), (1, 1), (-5, 1), (-5, -5), (-5, -4), (-5, -3), (-5, 2), (-11, 2), (-5, 2), (-5, -1), (-3, -1), (-2, -1), (-2, -5), (0, -5), (-5, -5), (-5, -8), (-4, -8), (-4, -7), (-6, -7), (-6, -9), (-6, -3), (-6, 1), (-7, 1), (-1, 1), (4, 1), (-2, 1), (-2, 5), (-2, 4), (-2, 9), (4, 9), (4, 13), (2, 13), (2, 18), (-2, 18), (-2, 13), (-7, 13), (-5, 13), (-5, 19), (-5, 21)]\n",
      "The number of steps taken are:64\n"
     ]
    },
    {
     "data": {
      "image/png": "[encoded data removed]",
      "text/plain": [
       "<Figure size 432x288 with 1 Axes>"
      ]
     },
     "metadata": {},
     "output_type": "display_data"
    },
    {
     "name": "stdout",
     "output_type": "stream",
     "text": [
      "The taken path is\n",
      "[(0, 0), (2, 0), (6, 0), (12, 0), (12, -1), (12, 2), (12, 8), (12, 11), (7, 11), (7, 8), (6, 8), (6, 9), (11, 9), (12, 9), (12, 14), (17, 14), (20, 14), (17, 14), (21, 14)]\n",
      "The number of steps taken are:18\n"
     ]
    },
    {
     "data": {
      "image/png": "[encoded data removed]",
      "text/plain": [
       "<Figure size 432x288 with 1 Axes>"
      ]
     },
     "metadata": {},
     "output_type": "display_data"
    },
    {
     "name": "stdout",
     "output_type": "stream",
     "text": [
      "The taken path is\n",
      "[(0, 0), (-4, 0), (-6, 0), (-8, 0), (-8, -2), (-8, -1), (-9, -1), (-9, 3), (-12, 3), (-10, 3), (-15, 3), (-11, 3), (-14, 3), (-14, 6), (-14, 2), (-15, 2), (-15, 6), (-11, 6), (-10, 6), (-7, 6), (-7, 8), (-7, 7), (-7, 12), (-10, 12), (-9, 12), (-4, 12), (-6, 12), (-6, 9), (-6, 7), (-10, 7), (-10, 4), (-10, 0), (-5, 0), (-5, 5), (-5, 6), (-5, 1), (-5, 4), (-7, 4), (-7, 5), (-4, 5), (-10, 5), (-13, 5), (-10, 5), (-10, 6), (-10, 10), (-8, 10), (-11, 10), (-10, 10), (-16, 10), (-21, 10)]\n",
      "The number of steps taken are:49\n"
     ]
    },
    {
     "data": {
      "image/png": "[encoded data removed]",
      "text/plain": [
       "<Figure size 432x288 with 1 Axes>"
      ]
     },
     "metadata": {},
     "output_type": "display_data"
    }
   ],
   "source": [
    "for i in range(1,5):\n",
    "    class walker:                      \n",
    "        path=[(0,0)]\n",
    "        x=0\n",
    "        y=0\n",
    "        steps=0\n",
    "    \n",
    "    \n",
    "    \n",
    "        def get_direction(self):\n",
    "            self.direction=np.random.randint(1,5)\n",
    "    \n",
    "        def get_len(self):\n",
    "            self.step_size=np.random.randint(1,7)\n",
    "    \n",
    "    \n",
    "        def walk(self):\n",
    "            if self.direction==1 and walker.y<=20 and walker.y>=-20 and walker.x>=-20 and walker.x<=20:\n",
    "                walker.y=walker.y+self.step_size\n",
    "                walker.steps=walker.steps+1\n",
    "                walker.path.append((walker.x,walker.y))\n",
    "            \n",
    "            \n",
    "            \n",
    "            elif self.direction==2 and walker.y<=20 and walker.y>=-20 and walker.x>=-20 and walker.x<=20:\n",
    "                walker.y=walker.y-self.step_size\n",
    "                walker.steps=walker.steps+1\n",
    "                walker.path.append((walker.x,walker.y))\n",
    "            \n",
    "            \n",
    "            \n",
    "            \n",
    "            elif self.direction==3 and walker.x>=-20 and walker.x<=20 and walker.y<=20 and walker.y>=-20:\n",
    "                walker.x=walker.x+self.step_size\n",
    "                walker.steps=walker.steps+1\n",
    "                walker.path.append((walker.x,walker.y))\n",
    "            \n",
    "            \n",
    "            \n",
    "            \n",
    "            elif self.direction==4 and walker.x>=-20 and walker.x<=20 and walker.y<=20 and walker.y>=-20:\n",
    "                walker.x=walker.x-self.step_size\n",
    "                walker.steps=walker.steps+1\n",
    "                walker.path.append((walker.x,walker.y))\n",
    "                \n",
    "    for i in range(1,100):\n",
    "        a=walker()\n",
    "        a.get_direction()\n",
    "        a.get_len()\n",
    "        a.walk()\n",
    "        \n",
    "    \n",
    "    print(\"The taken path is\")\n",
    "    print(a.path)\n",
    "    print(\"The number of steps taken are:%d\"%a.steps)\n",
    "    x,y=zip(*a.path)\n",
    "    plt.xlim((-20,20))\n",
    "    plt.ylim((-20,20))\n",
    "    plt.plot(x,y)\n",
    "    plt.plot(x,y,'or')\n",
    "    plt.show()\n"
   ]
  },
  {
   "cell_type": "code",
   "execution_count": null,
   "metadata": {},
   "outputs": [],
   "source": []
  },
  {
   "cell_type": "code",
   "execution_count": 1231,
   "metadata": {},
   "outputs": [],
   "source": [
    "def simulate():\n",
    "    class walker:                      \n",
    "        path=[(0,0)]\n",
    "        x=0\n",
    "        y=0\n",
    "        steps=0\n",
    "    \n",
    "    \n",
    "    \n",
    "        def get_direction(self):\n",
    "            self.direction=np.random.randint(1,5)\n",
    "    \n",
    "        def get_len(self):\n",
    "            self.step_size=np.random.randint(1,7)\n",
    "    \n",
    "    \n",
    "        def walk(self):\n",
    "            if self.direction==1 and walker.y<=20 and walker.y>=-20 and walker.x>=-20 and walker.x<=20:\n",
    "                walker.y=walker.y+self.step_size\n",
    "                walker.steps=walker.steps+1\n",
    "                walker.path.append((walker.x,walker.y))\n",
    "            \n",
    "            \n",
    "            \n",
    "            elif self.direction==2 and walker.y<=20 and walker.y>=-20 and walker.x>=-20 and walker.x<=20:\n",
    "                walker.y=walker.y-self.step_size\n",
    "                walker.steps=walker.steps+1\n",
    "                walker.path.append((walker.x,walker.y))\n",
    "            \n",
    "            \n",
    "            \n",
    "            \n",
    "            elif self.direction==3 and walker.x>=-20 and walker.x<=20 and walker.y<=20 and walker.y>=-20:\n",
    "                walker.x=walker.x+self.step_size\n",
    "                walker.steps=walker.steps+1\n",
    "                walker.path.append((walker.x,walker.y))\n",
    "            \n",
    "            \n",
    "            \n",
    "            \n",
    "            elif self.direction==4 and walker.x>=-20 and walker.x<=20 and walker.y<=20 and walker.y>=-20:\n",
    "                walker.x=walker.x-self.step_size\n",
    "                walker.steps=walker.steps+1\n",
    "                walker.path.append((walker.x,walker.y))"
   ]
  },
  {
   "cell_type": "code",
   "execution_count": null,
   "metadata": {},
   "outputs": [],
   "source": []
  },
  {
   "cell_type": "code",
   "execution_count": 1235,
   "metadata": {},
   "outputs": [
    {
     "name": "stdout",
     "output_type": "stream",
     "text": [
      "The taken path is\n",
      "[(0, 0), (-4, 0), (-6, 0), (-8, 0), (-8, -2), (-8, -1), (-9, -1), (-9, 3), (-12, 3), (-10, 3), (-15, 3), (-11, 3), (-14, 3), (-14, 6), (-14, 2), (-15, 2), (-15, 6), (-11, 6), (-10, 6), (-7, 6), (-7, 8), (-7, 7), (-7, 12), (-10, 12), (-9, 12), (-4, 12), (-6, 12), (-6, 9), (-6, 7), (-10, 7), (-10, 4), (-10, 0), (-5, 0), (-5, 5), (-5, 6), (-5, 1), (-5, 4), (-7, 4), (-7, 5), (-4, 5), (-10, 5), (-13, 5), (-10, 5), (-10, 6), (-10, 10), (-8, 10), (-11, 10), (-10, 10), (-16, 10), (-21, 10)]\n",
      "The number of steps taken are:49\n"
     ]
    },
    {
     "data": {
      "image/png": "[encoded data removed]",
      "text/plain": [
       "<Figure size 432x288 with 1 Axes>"
      ]
     },
     "metadata": {},
     "output_type": "display_data"
    },
    {
     "name": "stdout",
     "output_type": "stream",
     "text": [
      "The taken path is\n",
      "[(0, 0), (-4, 0), (-6, 0), (-8, 0), (-8, -2), (-8, -1), (-9, -1), (-9, 3), (-12, 3), (-10, 3), (-15, 3), (-11, 3), (-14, 3), (-14, 6), (-14, 2), (-15, 2), (-15, 6), (-11, 6), (-10, 6), (-7, 6), (-7, 8), (-7, 7), (-7, 12), (-10, 12), (-9, 12), (-4, 12), (-6, 12), (-6, 9), (-6, 7), (-10, 7), (-10, 4), (-10, 0), (-5, 0), (-5, 5), (-5, 6), (-5, 1), (-5, 4), (-7, 4), (-7, 5), (-4, 5), (-10, 5), (-13, 5), (-10, 5), (-10, 6), (-10, 10), (-8, 10), (-11, 10), (-10, 10), (-16, 10), (-21, 10)]\n",
      "The number of steps taken are:49\n"
     ]
    },
    {
     "data": {
      "image/png": "[encoded data removed]",
      "text/plain": [
       "<Figure size 432x288 with 1 Axes>"
      ]
     },
     "metadata": {},
     "output_type": "display_data"
    },
    {
     "name": "stdout",
     "output_type": "stream",
     "text": [
      "The taken path is\n",
      "[(0, 0), (-4, 0), (-6, 0), (-8, 0), (-8, -2), (-8, -1), (-9, -1), (-9, 3), (-12, 3), (-10, 3), (-15, 3), (-11, 3), (-14, 3), (-14, 6), (-14, 2), (-15, 2), (-15, 6), (-11, 6), (-10, 6), (-7, 6), (-7, 8), (-7, 7), (-7, 12), (-10, 12), (-9, 12), (-4, 12), (-6, 12), (-6, 9), (-6, 7), (-10, 7), (-10, 4), (-10, 0), (-5, 0), (-5, 5), (-5, 6), (-5, 1), (-5, 4), (-7, 4), (-7, 5), (-4, 5), (-10, 5), (-13, 5), (-10, 5), (-10, 6), (-10, 10), (-8, 10), (-11, 10), (-10, 10), (-16, 10), (-21, 10)]\n",
      "The number of steps taken are:49\n"
     ]
    },
    {
     "data": {
      "image/png": "[encoded data removed]",
      "text/plain": [
       "<Figure size 432x288 with 1 Axes>"
      ]
     },
     "metadata": {},
     "output_type": "display_data"
    },
    {
     "name": "stdout",
     "output_type": "stream",
     "text": [
      "The taken path is\n",
      "[(0, 0), (-4, 0), (-6, 0), (-8, 0), (-8, -2), (-8, -1), (-9, -1), (-9, 3), (-12, 3), (-10, 3), (-15, 3), (-11, 3), (-14, 3), (-14, 6), (-14, 2), (-15, 2), (-15, 6), (-11, 6), (-10, 6), (-7, 6), (-7, 8), (-7, 7), (-7, 12), (-10, 12), (-9, 12), (-4, 12), (-6, 12), (-6, 9), (-6, 7), (-10, 7), (-10, 4), (-10, 0), (-5, 0), (-5, 5), (-5, 6), (-5, 1), (-5, 4), (-7, 4), (-7, 5), (-4, 5), (-10, 5), (-13, 5), (-10, 5), (-10, 6), (-10, 10), (-8, 10), (-11, 10), (-10, 10), (-16, 10), (-21, 10)]\n",
      "The number of steps taken are:49\n"
     ]
    },
    {
     "data": {
      "image/png": "[encoded data removed]",
      "text/plain": [
       "<Figure size 432x288 with 1 Axes>"
      ]
     },
     "metadata": {},
     "output_type": "display_data"
    }
   ],
   "source": [
    "for i in range(1,5):\n",
    "    simulate()\n",
    "    for i in range(1,100):\n",
    "        b=walker()\n",
    "        b.get_direction()\n",
    "        b.get_len()\n",
    "        b.walk()\n",
    "        \n",
    "    \n",
    "    print(\"The taken path is\")\n",
    "    print(b.path)\n",
    "    print(\"The number of steps taken are:%d\"%a.steps)\n",
    "    x,y=zip(*b.path)\n",
    "    plt.xlim((-20,20))\n",
    "    plt.ylim((-20,20))\n",
    "    plt.plot(x,y)\n",
    "    plt.plot(x,y,'or')\n",
    "    plt.show()\n"
   ]
  },
  {
   "cell_type": "code",
   "execution_count": null,
   "metadata": {},
   "outputs": [],
   "source": []
  },
  {
   "cell_type": "code",
   "execution_count": null,
   "metadata": {},
   "outputs": [],
   "source": []
  },
  {
   "cell_type": "code",
   "execution_count": null,
   "metadata": {},
   "outputs": [],
   "source": []
  },
  {
   "cell_type": "code",
   "execution_count": null,
   "metadata": {},
   "outputs": [],
   "source": []
  }
 ],
 "metadata": {
  "kernelspec": {
   "display_name": "Python 3",
   "language": "python",
   "name": "python3"
  },
  "language_info": {
   "codemirror_mode": {
    "name": "ipython",
    "version": 3
   },
   "file_extension": ".py",
   "mimetype": "text/x-python",
   "name": "python",
   "nbconvert_exporter": "python",
   "pygments_lexer": "ipython3",
   "version": "3.6.5"
  }
 },
 "nbformat": 4,
 "nbformat_minor": 2
}
