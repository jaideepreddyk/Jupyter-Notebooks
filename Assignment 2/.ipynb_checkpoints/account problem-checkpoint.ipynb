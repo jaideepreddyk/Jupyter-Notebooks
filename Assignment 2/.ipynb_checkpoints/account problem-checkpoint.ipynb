{
 "cells": [
  {
   "cell_type": "code",
   "execution_count": 1,
   "metadata": {},
   "outputs": [],
   "source": [
    "import pandas as pd"
   ]
  },
  {
   "cell_type": "code",
   "execution_count": 2,
   "metadata": {},
   "outputs": [],
   "source": [
    "acc_details=pd.read_csv(\"Account_details.txt\",delimiter=\"\\t\")\n",
    "transactions=pd.read_csv(\"transaction.txt\",delimiter=\"\\t\")"
   ]
  },
  {
   "cell_type": "code",
   "execution_count": 4,
   "metadata": {},
   "outputs": [
    {
     "name": "stdout",
     "output_type": "stream",
     "text": [
      "Customer_ID             int64\n",
      "Transaction_amount    float64\n",
      "Date                   object\n",
      "dtype: object\n"
     ]
    }
   ],
   "source": [
    "print(transactions.dtypes)"
   ]
  },
  {
   "cell_type": "code",
   "execution_count": 5,
   "metadata": {},
   "outputs": [
    {
     "name": "stdout",
     "output_type": "stream",
     "text": [
      "Customer_ID                       int64\n",
      "Card_number                       int64\n",
      "Account_Number                    int64\n",
      "Primary_or_Sup_card_indicator    object\n",
      "Card_Limit                        int64\n",
      "Current_Balance_within_card       int64\n",
      "dtype: object\n"
     ]
    }
   ],
   "source": [
    "print(acc_details.dtypes)"
   ]
  },
  {
   "cell_type": "code",
   "execution_count": 6,
   "metadata": {},
   "outputs": [
    {
     "data": {
      "text/html": [
       "<div>\n",
       "<style scoped>\n",
       "    .dataframe tbody tr th:only-of-type {\n",
       "        vertical-align: middle;\n",
       "    }\n",
       "\n",
       "    .dataframe tbody tr th {\n",
       "        vertical-align: top;\n",
       "    }\n",
       "\n",
       "    .dataframe thead th {\n",
       "        text-align: right;\n",
       "    }\n",
       "</style>\n",
       "<table border=\"1\" class=\"dataframe\">\n",
       "  <thead>\n",
       "    <tr style=\"text-align: right;\">\n",
       "      <th></th>\n",
       "      <th>Customer_ID</th>\n",
       "      <th>Transaction_amount</th>\n",
       "      <th>Date</th>\n",
       "    </tr>\n",
       "  </thead>\n",
       "  <tbody>\n",
       "    <tr>\n",
       "      <th>0</th>\n",
       "      <td>7</td>\n",
       "      <td>21.3</td>\n",
       "      <td>10/1/2017</td>\n",
       "    </tr>\n",
       "    <tr>\n",
       "      <th>1</th>\n",
       "      <td>2</td>\n",
       "      <td>24.6</td>\n",
       "      <td>10/1/2017</td>\n",
       "    </tr>\n",
       "    <tr>\n",
       "      <th>2</th>\n",
       "      <td>3</td>\n",
       "      <td>9.3</td>\n",
       "      <td>10/1/2017</td>\n",
       "    </tr>\n",
       "    <tr>\n",
       "      <th>3</th>\n",
       "      <td>12</td>\n",
       "      <td>45.9</td>\n",
       "      <td>10/1/2017</td>\n",
       "    </tr>\n",
       "    <tr>\n",
       "      <th>4</th>\n",
       "      <td>15</td>\n",
       "      <td>62.0</td>\n",
       "      <td>10/1/2017</td>\n",
       "    </tr>\n",
       "  </tbody>\n",
       "</table>\n",
       "</div>"
      ],
      "text/plain": [
       "   Customer_ID  Transaction_amount       Date\n",
       "0            7                21.3  10/1/2017\n",
       "1            2                24.6  10/1/2017\n",
       "2            3                 9.3  10/1/2017\n",
       "3           12                45.9  10/1/2017\n",
       "4           15                62.0  10/1/2017"
      ]
     },
     "execution_count": 6,
     "metadata": {},
     "output_type": "execute_result"
    }
   ],
   "source": [
    "transactions.head()"
   ]
  },
  {
   "cell_type": "code",
   "execution_count": 7,
   "metadata": {},
   "outputs": [
    {
     "data": {
      "text/html": [
       "<div>\n",
       "<style scoped>\n",
       "    .dataframe tbody tr th:only-of-type {\n",
       "        vertical-align: middle;\n",
       "    }\n",
       "\n",
       "    .dataframe tbody tr th {\n",
       "        vertical-align: top;\n",
       "    }\n",
       "\n",
       "    .dataframe thead th {\n",
       "        text-align: right;\n",
       "    }\n",
       "</style>\n",
       "<table border=\"1\" class=\"dataframe\">\n",
       "  <thead>\n",
       "    <tr style=\"text-align: right;\">\n",
       "      <th></th>\n",
       "      <th>Customer_ID</th>\n",
       "      <th>Card_number</th>\n",
       "      <th>Account_Number</th>\n",
       "      <th>Primary_or_Sup_card_indicator</th>\n",
       "      <th>Card_Limit</th>\n",
       "      <th>Current_Balance_within_card</th>\n",
       "    </tr>\n",
       "  </thead>\n",
       "  <tbody>\n",
       "    <tr>\n",
       "      <th>0</th>\n",
       "      <td>1</td>\n",
       "      <td>465269708804020</td>\n",
       "      <td>4652</td>\n",
       "      <td>P</td>\n",
       "      <td>10000</td>\n",
       "      <td>3206</td>\n",
       "    </tr>\n",
       "    <tr>\n",
       "      <th>1</th>\n",
       "      <td>2</td>\n",
       "      <td>465212381621478</td>\n",
       "      <td>4652</td>\n",
       "      <td>S</td>\n",
       "      <td>10000</td>\n",
       "      <td>2001</td>\n",
       "    </tr>\n",
       "    <tr>\n",
       "      <th>2</th>\n",
       "      <td>3</td>\n",
       "      <td>465234060131747</td>\n",
       "      <td>4652</td>\n",
       "      <td>S</td>\n",
       "      <td>10000</td>\n",
       "      <td>1316</td>\n",
       "    </tr>\n",
       "    <tr>\n",
       "      <th>3</th>\n",
       "      <td>4</td>\n",
       "      <td>523278393859100</td>\n",
       "      <td>5232</td>\n",
       "      <td>P</td>\n",
       "      <td>25000</td>\n",
       "      <td>7752</td>\n",
       "    </tr>\n",
       "    <tr>\n",
       "      <th>4</th>\n",
       "      <td>5</td>\n",
       "      <td>523278408870345</td>\n",
       "      <td>5232</td>\n",
       "      <td>S</td>\n",
       "      <td>25000</td>\n",
       "      <td>978</td>\n",
       "    </tr>\n",
       "  </tbody>\n",
       "</table>\n",
       "</div>"
      ],
      "text/plain": [
       "   Customer_ID      Card_number  Account_Number Primary_or_Sup_card_indicator  \\\n",
       "0            1  465269708804020            4652                             P   \n",
       "1            2  465212381621478            4652                             S   \n",
       "2            3  465234060131747            4652                             S   \n",
       "3            4  523278393859100            5232                             P   \n",
       "4            5  523278408870345            5232                             S   \n",
       "\n",
       "   Card_Limit  Current_Balance_within_card  \n",
       "0       10000                         3206  \n",
       "1       10000                         2001  \n",
       "2       10000                         1316  \n",
       "3       25000                         7752  \n",
       "4       25000                          978  "
      ]
     },
     "execution_count": 7,
     "metadata": {},
     "output_type": "execute_result"
    }
   ],
   "source": [
    "acc_details.head()"
   ]
  },
  {
   "cell_type": "code",
   "execution_count": 15,
   "metadata": {},
   "outputs": [],
   "source": [
    "acc_num=acc_details.Account_Number.unique()"
   ]
  },
  {
   "cell_type": "code",
   "execution_count": 9,
   "metadata": {},
   "outputs": [
    {
     "data": {
      "text/html": [
       "<div>\n",
       "<style scoped>\n",
       "    .dataframe tbody tr th:only-of-type {\n",
       "        vertical-align: middle;\n",
       "    }\n",
       "\n",
       "    .dataframe tbody tr th {\n",
       "        vertical-align: top;\n",
       "    }\n",
       "\n",
       "    .dataframe thead th {\n",
       "        text-align: right;\n",
       "    }\n",
       "</style>\n",
       "<table border=\"1\" class=\"dataframe\">\n",
       "  <thead>\n",
       "    <tr style=\"text-align: right;\">\n",
       "      <th></th>\n",
       "      <th>Customer_ID</th>\n",
       "      <th>Card_number</th>\n",
       "      <th>Account_Number</th>\n",
       "      <th>Primary_or_Sup_card_indicator</th>\n",
       "      <th>Card_Limit</th>\n",
       "      <th>Current_Balance_within_card</th>\n",
       "    </tr>\n",
       "  </thead>\n",
       "  <tbody>\n",
       "    <tr>\n",
       "      <th>0</th>\n",
       "      <td>1</td>\n",
       "      <td>465269708804020</td>\n",
       "      <td>4652</td>\n",
       "      <td>P</td>\n",
       "      <td>10000</td>\n",
       "      <td>3206</td>\n",
       "    </tr>\n",
       "    <tr>\n",
       "      <th>1</th>\n",
       "      <td>2</td>\n",
       "      <td>465212381621478</td>\n",
       "      <td>4652</td>\n",
       "      <td>S</td>\n",
       "      <td>10000</td>\n",
       "      <td>2001</td>\n",
       "    </tr>\n",
       "    <tr>\n",
       "      <th>2</th>\n",
       "      <td>3</td>\n",
       "      <td>465234060131747</td>\n",
       "      <td>4652</td>\n",
       "      <td>S</td>\n",
       "      <td>10000</td>\n",
       "      <td>1316</td>\n",
       "    </tr>\n",
       "    <tr>\n",
       "      <th>9</th>\n",
       "      <td>10</td>\n",
       "      <td>465253343310825</td>\n",
       "      <td>4652</td>\n",
       "      <td>S</td>\n",
       "      <td>10000</td>\n",
       "      <td>401</td>\n",
       "    </tr>\n",
       "  </tbody>\n",
       "</table>\n",
       "</div>"
      ],
      "text/plain": [
       "   Customer_ID      Card_number  Account_Number Primary_or_Sup_card_indicator  \\\n",
       "0            1  465269708804020            4652                             P   \n",
       "1            2  465212381621478            4652                             S   \n",
       "2            3  465234060131747            4652                             S   \n",
       "9           10  465253343310825            4652                             S   \n",
       "\n",
       "   Card_Limit  Current_Balance_within_card  \n",
       "0       10000                         3206  \n",
       "1       10000                         2001  \n",
       "2       10000                         1316  \n",
       "9       10000                          401  "
      ]
     },
     "execution_count": 9,
     "metadata": {},
     "output_type": "execute_result"
    }
   ],
   "source": [
    "acc_details[acc_details['Account_Number'].isin([4652])]"
   ]
  },
  {
   "cell_type": "code",
   "execution_count": 10,
   "metadata": {},
   "outputs": [
    {
     "data": {
      "text/html": [
       "<div>\n",
       "<style scoped>\n",
       "    .dataframe tbody tr th:only-of-type {\n",
       "        vertical-align: middle;\n",
       "    }\n",
       "\n",
       "    .dataframe tbody tr th {\n",
       "        vertical-align: top;\n",
       "    }\n",
       "\n",
       "    .dataframe thead th {\n",
       "        text-align: right;\n",
       "    }\n",
       "</style>\n",
       "<table border=\"1\" class=\"dataframe\">\n",
       "  <thead>\n",
       "    <tr style=\"text-align: right;\">\n",
       "      <th></th>\n",
       "      <th>Customer_ID</th>\n",
       "      <th>Card_number</th>\n",
       "      <th>Account_Number</th>\n",
       "      <th>Primary_or_Sup_card_indicator</th>\n",
       "      <th>Card_Limit</th>\n",
       "      <th>Current_Balance_within_card</th>\n",
       "    </tr>\n",
       "  </thead>\n",
       "  <tbody>\n",
       "    <tr>\n",
       "      <th>3</th>\n",
       "      <td>4</td>\n",
       "      <td>523278393859100</td>\n",
       "      <td>5232</td>\n",
       "      <td>P</td>\n",
       "      <td>25000</td>\n",
       "      <td>7752</td>\n",
       "    </tr>\n",
       "    <tr>\n",
       "      <th>4</th>\n",
       "      <td>5</td>\n",
       "      <td>523278408870345</td>\n",
       "      <td>5232</td>\n",
       "      <td>S</td>\n",
       "      <td>25000</td>\n",
       "      <td>978</td>\n",
       "    </tr>\n",
       "  </tbody>\n",
       "</table>\n",
       "</div>"
      ],
      "text/plain": [
       "   Customer_ID      Card_number  Account_Number Primary_or_Sup_card_indicator  \\\n",
       "3            4  523278393859100            5232                             P   \n",
       "4            5  523278408870345            5232                             S   \n",
       "\n",
       "   Card_Limit  Current_Balance_within_card  \n",
       "3       25000                         7752  \n",
       "4       25000                          978  "
      ]
     },
     "execution_count": 10,
     "metadata": {},
     "output_type": "execute_result"
    }
   ],
   "source": [
    "acc_details[acc_details['Account_Number'].isin([5232])]"
   ]
  },
  {
   "cell_type": "code",
   "execution_count": 11,
   "metadata": {},
   "outputs": [
    {
     "data": {
      "text/html": [
       "<div>\n",
       "<style scoped>\n",
       "    .dataframe tbody tr th:only-of-type {\n",
       "        vertical-align: middle;\n",
       "    }\n",
       "\n",
       "    .dataframe tbody tr th {\n",
       "        vertical-align: top;\n",
       "    }\n",
       "\n",
       "    .dataframe thead th {\n",
       "        text-align: right;\n",
       "    }\n",
       "</style>\n",
       "<table border=\"1\" class=\"dataframe\">\n",
       "  <thead>\n",
       "    <tr style=\"text-align: right;\">\n",
       "      <th></th>\n",
       "      <th>Customer_ID</th>\n",
       "      <th>Card_number</th>\n",
       "      <th>Account_Number</th>\n",
       "      <th>Primary_or_Sup_card_indicator</th>\n",
       "      <th>Card_Limit</th>\n",
       "      <th>Current_Balance_within_card</th>\n",
       "    </tr>\n",
       "  </thead>\n",
       "  <tbody>\n",
       "    <tr>\n",
       "      <th>5</th>\n",
       "      <td>6</td>\n",
       "      <td>521631995227842</td>\n",
       "      <td>5216</td>\n",
       "      <td>P</td>\n",
       "      <td>5000</td>\n",
       "      <td>1682</td>\n",
       "    </tr>\n",
       "  </tbody>\n",
       "</table>\n",
       "</div>"
      ],
      "text/plain": [
       "   Customer_ID      Card_number  Account_Number Primary_or_Sup_card_indicator  \\\n",
       "5            6  521631995227842            5216                             P   \n",
       "\n",
       "   Card_Limit  Current_Balance_within_card  \n",
       "5        5000                         1682  "
      ]
     },
     "execution_count": 11,
     "metadata": {},
     "output_type": "execute_result"
    }
   ],
   "source": [
    "acc_details[acc_details['Account_Number'].isin([5216])]"
   ]
  },
  {
   "cell_type": "code",
   "execution_count": 12,
   "metadata": {},
   "outputs": [
    {
     "data": {
      "text/html": [
       "<div>\n",
       "<style scoped>\n",
       "    .dataframe tbody tr th:only-of-type {\n",
       "        vertical-align: middle;\n",
       "    }\n",
       "\n",
       "    .dataframe tbody tr th {\n",
       "        vertical-align: top;\n",
       "    }\n",
       "\n",
       "    .dataframe thead th {\n",
       "        text-align: right;\n",
       "    }\n",
       "</style>\n",
       "<table border=\"1\" class=\"dataframe\">\n",
       "  <thead>\n",
       "    <tr style=\"text-align: right;\">\n",
       "      <th></th>\n",
       "      <th>Customer_ID</th>\n",
       "      <th>Card_number</th>\n",
       "      <th>Account_Number</th>\n",
       "      <th>Primary_or_Sup_card_indicator</th>\n",
       "      <th>Card_Limit</th>\n",
       "      <th>Current_Balance_within_card</th>\n",
       "    </tr>\n",
       "  </thead>\n",
       "  <tbody>\n",
       "    <tr>\n",
       "      <th>6</th>\n",
       "      <td>7</td>\n",
       "      <td>448027576407506</td>\n",
       "      <td>4480</td>\n",
       "      <td>S</td>\n",
       "      <td>3000</td>\n",
       "      <td>1759</td>\n",
       "    </tr>\n",
       "    <tr>\n",
       "      <th>7</th>\n",
       "      <td>8</td>\n",
       "      <td>448085827194161</td>\n",
       "      <td>4480</td>\n",
       "      <td>S</td>\n",
       "      <td>7000</td>\n",
       "      <td>1410</td>\n",
       "    </tr>\n",
       "    <tr>\n",
       "      <th>8</th>\n",
       "      <td>9</td>\n",
       "      <td>448053935337894</td>\n",
       "      <td>4480</td>\n",
       "      <td>P</td>\n",
       "      <td>7000</td>\n",
       "      <td>2411</td>\n",
       "    </tr>\n",
       "  </tbody>\n",
       "</table>\n",
       "</div>"
      ],
      "text/plain": [
       "   Customer_ID      Card_number  Account_Number Primary_or_Sup_card_indicator  \\\n",
       "6            7  448027576407506            4480                             S   \n",
       "7            8  448085827194161            4480                             S   \n",
       "8            9  448053935337894            4480                             P   \n",
       "\n",
       "   Card_Limit  Current_Balance_within_card  \n",
       "6        3000                         1759  \n",
       "7        7000                         1410  \n",
       "8        7000                         2411  "
      ]
     },
     "execution_count": 12,
     "metadata": {},
     "output_type": "execute_result"
    }
   ],
   "source": [
    "acc_details[acc_details['Account_Number'].isin([4480])]"
   ]
  },
  {
   "cell_type": "code",
   "execution_count": 13,
   "metadata": {},
   "outputs": [
    {
     "data": {
      "text/html": [
       "<div>\n",
       "<style scoped>\n",
       "    .dataframe tbody tr th:only-of-type {\n",
       "        vertical-align: middle;\n",
       "    }\n",
       "\n",
       "    .dataframe tbody tr th {\n",
       "        vertical-align: top;\n",
       "    }\n",
       "\n",
       "    .dataframe thead th {\n",
       "        text-align: right;\n",
       "    }\n",
       "</style>\n",
       "<table border=\"1\" class=\"dataframe\">\n",
       "  <thead>\n",
       "    <tr style=\"text-align: right;\">\n",
       "      <th></th>\n",
       "      <th>Customer_ID</th>\n",
       "      <th>Card_number</th>\n",
       "      <th>Account_Number</th>\n",
       "      <th>Primary_or_Sup_card_indicator</th>\n",
       "      <th>Card_Limit</th>\n",
       "      <th>Current_Balance_within_card</th>\n",
       "    </tr>\n",
       "  </thead>\n",
       "  <tbody>\n",
       "    <tr>\n",
       "      <th>10</th>\n",
       "      <td>11</td>\n",
       "      <td>505883223227589</td>\n",
       "      <td>5058</td>\n",
       "      <td>S</td>\n",
       "      <td>15000</td>\n",
       "      <td>7762</td>\n",
       "    </tr>\n",
       "    <tr>\n",
       "      <th>11</th>\n",
       "      <td>12</td>\n",
       "      <td>505861043306991</td>\n",
       "      <td>5058</td>\n",
       "      <td>P</td>\n",
       "      <td>15000</td>\n",
       "      <td>2010</td>\n",
       "    </tr>\n",
       "  </tbody>\n",
       "</table>\n",
       "</div>"
      ],
      "text/plain": [
       "    Customer_ID      Card_number  Account_Number  \\\n",
       "10           11  505883223227589            5058   \n",
       "11           12  505861043306991            5058   \n",
       "\n",
       "   Primary_or_Sup_card_indicator  Card_Limit  Current_Balance_within_card  \n",
       "10                             S       15000                         7762  \n",
       "11                             P       15000                         2010  "
      ]
     },
     "execution_count": 13,
     "metadata": {},
     "output_type": "execute_result"
    }
   ],
   "source": [
    "acc_details[acc_details['Account_Number'].isin([5058])]"
   ]
  },
  {
   "cell_type": "code",
   "execution_count": 14,
   "metadata": {},
   "outputs": [
    {
     "data": {
      "text/html": [
       "<div>\n",
       "<style scoped>\n",
       "    .dataframe tbody tr th:only-of-type {\n",
       "        vertical-align: middle;\n",
       "    }\n",
       "\n",
       "    .dataframe tbody tr th {\n",
       "        vertical-align: top;\n",
       "    }\n",
       "\n",
       "    .dataframe thead th {\n",
       "        text-align: right;\n",
       "    }\n",
       "</style>\n",
       "<table border=\"1\" class=\"dataframe\">\n",
       "  <thead>\n",
       "    <tr style=\"text-align: right;\">\n",
       "      <th></th>\n",
       "      <th>Customer_ID</th>\n",
       "      <th>Card_number</th>\n",
       "      <th>Account_Number</th>\n",
       "      <th>Primary_or_Sup_card_indicator</th>\n",
       "      <th>Card_Limit</th>\n",
       "      <th>Current_Balance_within_card</th>\n",
       "    </tr>\n",
       "  </thead>\n",
       "  <tbody>\n",
       "    <tr>\n",
       "      <th>12</th>\n",
       "      <td>13</td>\n",
       "      <td>495240794468087</td>\n",
       "      <td>4952</td>\n",
       "      <td>S</td>\n",
       "      <td>1000</td>\n",
       "      <td>240</td>\n",
       "    </tr>\n",
       "    <tr>\n",
       "      <th>13</th>\n",
       "      <td>14</td>\n",
       "      <td>495262201714209</td>\n",
       "      <td>4952</td>\n",
       "      <td>P</td>\n",
       "      <td>1000</td>\n",
       "      <td>383</td>\n",
       "    </tr>\n",
       "    <tr>\n",
       "      <th>14</th>\n",
       "      <td>15</td>\n",
       "      <td>495269398046392</td>\n",
       "      <td>4952</td>\n",
       "      <td>S</td>\n",
       "      <td>1000</td>\n",
       "      <td>303</td>\n",
       "    </tr>\n",
       "  </tbody>\n",
       "</table>\n",
       "</div>"
      ],
      "text/plain": [
       "    Customer_ID      Card_number  Account_Number  \\\n",
       "12           13  495240794468087            4952   \n",
       "13           14  495262201714209            4952   \n",
       "14           15  495269398046392            4952   \n",
       "\n",
       "   Primary_or_Sup_card_indicator  Card_Limit  Current_Balance_within_card  \n",
       "12                             S        1000                          240  \n",
       "13                             P        1000                          383  \n",
       "14                             S        1000                          303  "
      ]
     },
     "execution_count": 14,
     "metadata": {},
     "output_type": "execute_result"
    }
   ],
   "source": [
    "acc_details[acc_details['Account_Number'].isin([4952])]"
   ]
  },
  {
   "cell_type": "code",
   "execution_count": 18,
   "metadata": {},
   "outputs": [
    {
     "name": "stdout",
     "output_type": "stream",
     "text": [
      "5232\n"
     ]
    }
   ],
   "source": [
    "print(acc_num[1])"
   ]
  },
  {
   "cell_type": "code",
   "execution_count": 19,
   "metadata": {},
   "outputs": [
    {
     "data": {
      "text/html": [
       "<div>\n",
       "<style scoped>\n",
       "    .dataframe tbody tr th:only-of-type {\n",
       "        vertical-align: middle;\n",
       "    }\n",
       "\n",
       "    .dataframe tbody tr th {\n",
       "        vertical-align: top;\n",
       "    }\n",
       "\n",
       "    .dataframe thead th {\n",
       "        text-align: right;\n",
       "    }\n",
       "</style>\n",
       "<table border=\"1\" class=\"dataframe\">\n",
       "  <thead>\n",
       "    <tr style=\"text-align: right;\">\n",
       "      <th></th>\n",
       "      <th>Customer_ID</th>\n",
       "      <th>Card_number</th>\n",
       "      <th>Account_Number</th>\n",
       "      <th>Primary_or_Sup_card_indicator</th>\n",
       "      <th>Card_Limit</th>\n",
       "      <th>Current_Balance_within_card</th>\n",
       "    </tr>\n",
       "  </thead>\n",
       "  <tbody>\n",
       "    <tr>\n",
       "      <th>0</th>\n",
       "      <td>1</td>\n",
       "      <td>465269708804020</td>\n",
       "      <td>4652</td>\n",
       "      <td>P</td>\n",
       "      <td>10000</td>\n",
       "      <td>3206</td>\n",
       "    </tr>\n",
       "    <tr>\n",
       "      <th>3</th>\n",
       "      <td>4</td>\n",
       "      <td>523278393859100</td>\n",
       "      <td>5232</td>\n",
       "      <td>P</td>\n",
       "      <td>25000</td>\n",
       "      <td>7752</td>\n",
       "    </tr>\n",
       "    <tr>\n",
       "      <th>5</th>\n",
       "      <td>6</td>\n",
       "      <td>521631995227842</td>\n",
       "      <td>5216</td>\n",
       "      <td>P</td>\n",
       "      <td>5000</td>\n",
       "      <td>1682</td>\n",
       "    </tr>\n",
       "    <tr>\n",
       "      <th>8</th>\n",
       "      <td>9</td>\n",
       "      <td>448053935337894</td>\n",
       "      <td>4480</td>\n",
       "      <td>P</td>\n",
       "      <td>7000</td>\n",
       "      <td>2411</td>\n",
       "    </tr>\n",
       "    <tr>\n",
       "      <th>11</th>\n",
       "      <td>12</td>\n",
       "      <td>505861043306991</td>\n",
       "      <td>5058</td>\n",
       "      <td>P</td>\n",
       "      <td>15000</td>\n",
       "      <td>2010</td>\n",
       "    </tr>\n",
       "    <tr>\n",
       "      <th>13</th>\n",
       "      <td>14</td>\n",
       "      <td>495262201714209</td>\n",
       "      <td>4952</td>\n",
       "      <td>P</td>\n",
       "      <td>1000</td>\n",
       "      <td>383</td>\n",
       "    </tr>\n",
       "  </tbody>\n",
       "</table>\n",
       "</div>"
      ],
      "text/plain": [
       "    Customer_ID      Card_number  Account_Number  \\\n",
       "0             1  465269708804020            4652   \n",
       "3             4  523278393859100            5232   \n",
       "5             6  521631995227842            5216   \n",
       "8             9  448053935337894            4480   \n",
       "11           12  505861043306991            5058   \n",
       "13           14  495262201714209            4952   \n",
       "\n",
       "   Primary_or_Sup_card_indicator  Card_Limit  Current_Balance_within_card  \n",
       "0                              P       10000                         3206  \n",
       "3                              P       25000                         7752  \n",
       "5                              P        5000                         1682  \n",
       "8                              P        7000                         2411  \n",
       "11                             P       15000                         2010  \n",
       "13                             P        1000                          383  "
      ]
     },
     "execution_count": 19,
     "metadata": {},
     "output_type": "execute_result"
    }
   ],
   "source": [
    "acc_details[acc_details['Primary_or_Sup_card_indicator'].isin(['P'])]"
   ]
  },
  {
   "cell_type": "code",
   "execution_count": 20,
   "metadata": {},
   "outputs": [
    {
     "data": {
      "text/plain": [
       "array([4652, 5232, 5216, 4480, 5058, 4952], dtype=int64)"
      ]
     },
     "execution_count": 20,
     "metadata": {},
     "output_type": "execute_result"
    }
   ],
   "source": [
    "acc_num"
   ]
  },
  {
   "cell_type": "code",
   "execution_count": 21,
   "metadata": {},
   "outputs": [
    {
     "data": {
      "text/html": [
       "<div>\n",
       "<style scoped>\n",
       "    .dataframe tbody tr th:only-of-type {\n",
       "        vertical-align: middle;\n",
       "    }\n",
       "\n",
       "    .dataframe tbody tr th {\n",
       "        vertical-align: top;\n",
       "    }\n",
       "\n",
       "    .dataframe thead th {\n",
       "        text-align: right;\n",
       "    }\n",
       "</style>\n",
       "<table border=\"1\" class=\"dataframe\">\n",
       "  <thead>\n",
       "    <tr style=\"text-align: right;\">\n",
       "      <th></th>\n",
       "      <th>Customer_ID</th>\n",
       "      <th>Transaction_amount</th>\n",
       "      <th>Date</th>\n",
       "    </tr>\n",
       "  </thead>\n",
       "  <tbody>\n",
       "    <tr>\n",
       "      <th>0</th>\n",
       "      <td>7</td>\n",
       "      <td>21.3</td>\n",
       "      <td>10/1/2017</td>\n",
       "    </tr>\n",
       "    <tr>\n",
       "      <th>1</th>\n",
       "      <td>2</td>\n",
       "      <td>24.6</td>\n",
       "      <td>10/1/2017</td>\n",
       "    </tr>\n",
       "    <tr>\n",
       "      <th>2</th>\n",
       "      <td>3</td>\n",
       "      <td>9.3</td>\n",
       "      <td>10/1/2017</td>\n",
       "    </tr>\n",
       "    <tr>\n",
       "      <th>3</th>\n",
       "      <td>12</td>\n",
       "      <td>45.9</td>\n",
       "      <td>10/1/2017</td>\n",
       "    </tr>\n",
       "    <tr>\n",
       "      <th>4</th>\n",
       "      <td>15</td>\n",
       "      <td>62.0</td>\n",
       "      <td>10/1/2017</td>\n",
       "    </tr>\n",
       "  </tbody>\n",
       "</table>\n",
       "</div>"
      ],
      "text/plain": [
       "   Customer_ID  Transaction_amount       Date\n",
       "0            7                21.3  10/1/2017\n",
       "1            2                24.6  10/1/2017\n",
       "2            3                 9.3  10/1/2017\n",
       "3           12                45.9  10/1/2017\n",
       "4           15                62.0  10/1/2017"
      ]
     },
     "execution_count": 21,
     "metadata": {},
     "output_type": "execute_result"
    }
   ],
   "source": [
    "transactions.head()"
   ]
  },
  {
   "cell_type": "code",
   "execution_count": 24,
   "metadata": {},
   "outputs": [
    {
     "data": {
      "text/html": [
       "<div>\n",
       "<style scoped>\n",
       "    .dataframe tbody tr th:only-of-type {\n",
       "        vertical-align: middle;\n",
       "    }\n",
       "\n",
       "    .dataframe tbody tr th {\n",
       "        vertical-align: top;\n",
       "    }\n",
       "\n",
       "    .dataframe thead th {\n",
       "        text-align: right;\n",
       "    }\n",
       "</style>\n",
       "<table border=\"1\" class=\"dataframe\">\n",
       "  <thead>\n",
       "    <tr style=\"text-align: right;\">\n",
       "      <th></th>\n",
       "      <th>Customer_ID</th>\n",
       "      <th>Transaction_amount</th>\n",
       "      <th>Date</th>\n",
       "    </tr>\n",
       "  </thead>\n",
       "  <tbody>\n",
       "    <tr>\n",
       "      <th>5</th>\n",
       "      <td>1</td>\n",
       "      <td>7.7</td>\n",
       "      <td>10/2/2017</td>\n",
       "    </tr>\n",
       "    <tr>\n",
       "      <th>46</th>\n",
       "      <td>1</td>\n",
       "      <td>670.0</td>\n",
       "      <td>10/16/2017</td>\n",
       "    </tr>\n",
       "    <tr>\n",
       "      <th>52</th>\n",
       "      <td>1</td>\n",
       "      <td>39.9</td>\n",
       "      <td>10/17/2017</td>\n",
       "    </tr>\n",
       "    <tr>\n",
       "      <th>83</th>\n",
       "      <td>1</td>\n",
       "      <td>41.2</td>\n",
       "      <td>10/27/2017</td>\n",
       "    </tr>\n",
       "  </tbody>\n",
       "</table>\n",
       "</div>"
      ],
      "text/plain": [
       "    Customer_ID  Transaction_amount        Date\n",
       "5             1                 7.7   10/2/2017\n",
       "46            1               670.0  10/16/2017\n",
       "52            1                39.9  10/17/2017\n",
       "83            1                41.2  10/27/2017"
      ]
     },
     "execution_count": 24,
     "metadata": {},
     "output_type": "execute_result"
    }
   ],
   "source": [
    "transactions[transactions['Customer_ID'].isin([1])]"
   ]
  },
  {
   "cell_type": "code",
   "execution_count": 23,
   "metadata": {},
   "outputs": [
    {
     "data": {
      "text/html": [
       "<div>\n",
       "<style scoped>\n",
       "    .dataframe tbody tr th:only-of-type {\n",
       "        vertical-align: middle;\n",
       "    }\n",
       "\n",
       "    .dataframe tbody tr th {\n",
       "        vertical-align: top;\n",
       "    }\n",
       "\n",
       "    .dataframe thead th {\n",
       "        text-align: right;\n",
       "    }\n",
       "</style>\n",
       "<table border=\"1\" class=\"dataframe\">\n",
       "  <thead>\n",
       "    <tr style=\"text-align: right;\">\n",
       "      <th></th>\n",
       "      <th>Customer_ID</th>\n",
       "      <th>Card_number</th>\n",
       "      <th>Account_Number</th>\n",
       "      <th>Primary_or_Sup_card_indicator</th>\n",
       "      <th>Card_Limit</th>\n",
       "      <th>Current_Balance_within_card</th>\n",
       "    </tr>\n",
       "  </thead>\n",
       "  <tbody>\n",
       "    <tr>\n",
       "      <th>0</th>\n",
       "      <td>1</td>\n",
       "      <td>465269708804020</td>\n",
       "      <td>4652</td>\n",
       "      <td>P</td>\n",
       "      <td>10000</td>\n",
       "      <td>3206</td>\n",
       "    </tr>\n",
       "    <tr>\n",
       "      <th>1</th>\n",
       "      <td>2</td>\n",
       "      <td>465212381621478</td>\n",
       "      <td>4652</td>\n",
       "      <td>S</td>\n",
       "      <td>10000</td>\n",
       "      <td>2001</td>\n",
       "    </tr>\n",
       "    <tr>\n",
       "      <th>2</th>\n",
       "      <td>3</td>\n",
       "      <td>465234060131747</td>\n",
       "      <td>4652</td>\n",
       "      <td>S</td>\n",
       "      <td>10000</td>\n",
       "      <td>1316</td>\n",
       "    </tr>\n",
       "    <tr>\n",
       "      <th>9</th>\n",
       "      <td>10</td>\n",
       "      <td>465253343310825</td>\n",
       "      <td>4652</td>\n",
       "      <td>S</td>\n",
       "      <td>10000</td>\n",
       "      <td>401</td>\n",
       "    </tr>\n",
       "  </tbody>\n",
       "</table>\n",
       "</div>"
      ],
      "text/plain": [
       "   Customer_ID      Card_number  Account_Number Primary_or_Sup_card_indicator  \\\n",
       "0            1  465269708804020            4652                             P   \n",
       "1            2  465212381621478            4652                             S   \n",
       "2            3  465234060131747            4652                             S   \n",
       "9           10  465253343310825            4652                             S   \n",
       "\n",
       "   Card_Limit  Current_Balance_within_card  \n",
       "0       10000                         3206  \n",
       "1       10000                         2001  \n",
       "2       10000                         1316  \n",
       "9       10000                          401  "
      ]
     },
     "execution_count": 23,
     "metadata": {},
     "output_type": "execute_result"
    }
   ],
   "source": [
    "acc_details[acc_details['Account_Number'].isin([4652])]"
   ]
  },
  {
   "cell_type": "code",
   "execution_count": 27,
   "metadata": {},
   "outputs": [
    {
     "data": {
      "text/plain": [
       "6    S\n",
       "Name: Primary_or_Sup_card_indicator, dtype: object"
      ]
     },
     "execution_count": 27,
     "metadata": {},
     "output_type": "execute_result"
    }
   ],
   "source": [
    "acc_details[acc_details['Customer_ID'].isin([7])]['Primary_or_Sup_card_indicator']"
   ]
  },
  {
   "cell_type": "code",
   "execution_count": 159,
   "metadata": {},
   "outputs": [],
   "source": [
    "class Primarycard:\n",
    "    primaryCardLimitDict = {}\n",
    "    \n",
    "    \n",
    "    def __init__(self,cust_id,card_no,acc_no,card_limit,current_bal):\n",
    "        self.cust_id=cust_id\n",
    "        self.card_no=card_no\n",
    "        self.acc_no=acc_no\n",
    "        self.card_limit=card_limit\n",
    "        self.current_bal=current_bal\n",
    "        \n",
    "        \n",
    "    def cust_id(self):\n",
    "        return self.cust_id\n",
    "    \n",
    "    def card_no(self):\n",
    "        return self.card_no\n",
    "    \n",
    "    def acc_no(self):\n",
    "        return self.acc_no\n",
    "    \n",
    "    def card_limit(self):\n",
    "        return self.card_limit\n",
    "    \n",
    "    def current_balance(self,trans_amount):\n",
    "        self.current_bal=self.current_bal+trans_amount\n",
    "        return self.current_bal\n",
    "        \n",
    "    \n",
    "class Secondarycard(Primarycard):\n",
    "    secondaryCardLimit = {}\n",
    "    def __init__(self,cust_id,card_no,acc_no,card_limit,current_bal):\n",
    "        super().__init__(cust_id,card_no,acc_no,card_limit,current_bal)\n",
    "    \n",
    "    def current_balance(self,transaction_amt):\n",
    "        self.current_bal=self.current_bal+transaction_amt\n",
    "        return self.current_bal\n",
    "           "
   ]
  },
  {
   "cell_type": "code",
   "execution_count": 144,
   "metadata": {},
   "outputs": [],
   "source": [
    "import pandas as pd   \n",
    "acc_details=pd.read_csv(\"Account_details.txt\",delimiter=\"\\t\")\n",
    "transactions=pd.read_csv(\"transaction.txt\",delimiter=\"\\t\")\n",
    "\n",
    "\n"
   ]
  },
  {
   "cell_type": "code",
   "execution_count": 162,
   "metadata": {},
   "outputs": [],
   "source": [
    "cust_id=transactions.Customer_ID[1]\n",
    "tran=transactions.Transaction_amount[1]"
   ]
  },
  {
   "cell_type": "code",
   "execution_count": 163,
   "metadata": {},
   "outputs": [],
   "source": [
    "p_or_s=acc_details[acc_details['Customer_ID'].isin([cust_id])]['Primary_or_Sup_card_indicator']"
   ]
  },
  {
   "cell_type": "code",
   "execution_count": 164,
   "metadata": {},
   "outputs": [],
   "source": [
    "cust_id=acc_details[acc_details['Customer_ID'].isin([cust_id])]['Customer_ID'].item()"
   ]
  },
  {
   "cell_type": "code",
   "execution_count": 165,
   "metadata": {},
   "outputs": [],
   "source": [
    "card_no=acc_details[acc_details['Customer_ID'].isin([cust_id])]['Card_number'].item()"
   ]
  },
  {
   "cell_type": "code",
   "execution_count": 166,
   "metadata": {},
   "outputs": [],
   "source": [
    "acc_no=acc_details[acc_details['Customer_ID'].isin([cust_id])]['Account_Number'].item()"
   ]
  },
  {
   "cell_type": "code",
   "execution_count": 167,
   "metadata": {},
   "outputs": [],
   "source": [
    "card_limit=acc_details[acc_details['Customer_ID'].isin([cust_id])]['Card_Limit'].item()"
   ]
  },
  {
   "cell_type": "code",
   "execution_count": 168,
   "metadata": {},
   "outputs": [],
   "source": [
    "curr_bal=acc_details[acc_details['Customer_ID'].isin([cust_id])]['Current_Balance_within_card'].item()"
   ]
  },
  {
   "cell_type": "code",
   "execution_count": null,
   "metadata": {},
   "outputs": [],
   "source": []
  },
  {
   "cell_type": "code",
   "execution_count": 172,
   "metadata": {},
   "outputs": [],
   "source": [
    "if p_or_s.item()=='S':\n",
    "    a=Secondarycard(cust_id,card_no,acc_no,card_limit,curr_bal)\n",
    "    x=a.current_balance(tran)\n",
    "elif p_or_s.item()=='P':\n",
    "    b=Primarycard(cust_id,card_no,acc_no,card_limit,curr_bal)\n",
    "    y=a.current_balance(tran)\n",
    "    "
   ]
  },
  {
   "cell_type": "code",
   "execution_count": 161,
   "metadata": {},
   "outputs": [
    {
     "data": {
      "text/plain": [
       "1780.3"
      ]
     },
     "execution_count": 161,
     "metadata": {},
     "output_type": "execute_result"
    }
   ],
   "source": [
    "x"
   ]
  },
  {
   "cell_type": "code",
   "execution_count": 173,
   "metadata": {},
   "outputs": [
    {
     "data": {
      "text/plain": [
       "2025.6"
      ]
     },
     "execution_count": 173,
     "metadata": {},
     "output_type": "execute_result"
    }
   ],
   "source": [
    "x"
   ]
  },
  {
   "cell_type": "code",
   "execution_count": null,
   "metadata": {},
   "outputs": [],
   "source": []
  }
 ],
 "metadata": {
  "kernelspec": {
   "display_name": "Python 3",
   "language": "python",
   "name": "python3"
  },
  "language_info": {
   "codemirror_mode": {
    "name": "ipython",
    "version": 3
   },
   "file_extension": ".py",
   "mimetype": "text/x-python",
   "name": "python",
   "nbconvert_exporter": "python",
   "pygments_lexer": "ipython3",
   "version": "3.6.5"
  }
 },
 "nbformat": 4,
 "nbformat_minor": 2
}
