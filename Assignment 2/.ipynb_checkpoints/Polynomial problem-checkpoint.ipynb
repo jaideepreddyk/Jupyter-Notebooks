{
 "cells": [
  {
   "cell_type": "code",
   "execution_count": 327,
   "metadata": {},
   "outputs": [],
   "source": [
    "import numpy as np\n",
    "import matplotlib.pyplot as plt"
   ]
  },
  {
   "cell_type": "code",
   "execution_count": 163,
   "metadata": {},
   "outputs": [],
   "source": [
    "class singleterm:\n",
    "    def __init__(self,coefficients,polypow):             ## term order (power,coefficient)\n",
    "        self.polypow=polypow\n",
    "        self.coefficients=coefficients\n",
    "        \n",
    "    def power(self):\n",
    "        return self.polypow\n",
    "    \n",
    "    def coeff(self):\n",
    "        return self.coefficients\n",
    "        "
   ]
  },
  {
   "cell_type": "code",
   "execution_count": 339,
   "metadata": {},
   "outputs": [],
   "source": [
    "class Polynomial:\n",
    "    \n",
    "    def __init__(self,terms):\n",
    "        self.terms=terms\n",
    "        \n",
    "    def get_poly(self):\n",
    "        return self.terms       ## this function will let user access polynomial terms from polynomial class object\n",
    "    \n",
    "    \n",
    "    def order(self):\n",
    "        max=0\n",
    "        for i in range(0,len(self.get_poly())):\n",
    "            if self.terms[i].power()>max:\n",
    "                max=self.terms[i].power()\n",
    "        return max\n",
    "            \n",
    "        \n",
    "    def solve(self):  \n",
    "            x=list()\n",
    "            try:\n",
    "                if self.order()>2:\n",
    "                    raise ValueError(\"Given Equation is not Quadratic\")\n",
    "                else:\n",
    "                    print(\"Given Equation is Quadratic\")\n",
    "                    for i in range(0,len(self.get_poly())):\n",
    "                        x.append(self.get_poly()[i].coeff())\n",
    "                    print(np.roots(x))\n",
    "            except ValueError as e:\n",
    "                print(e)\n",
    "                \n",
    "                \n",
    "                \n",
    "    def sort(self):                   ### this function sorts the order of the polynomial \n",
    "        temp=0\n",
    "        for i in range(0,len(self.get_poly())-1):\n",
    "            if self.get_poly()[i+1].power()>self.get_poly()[i].power():\n",
    "                temp=self.get_poly()[i]\n",
    "                self.get_poly()[i]=self.get_poly()[i+1]\n",
    "                self.get_poly()[i+1]=temp\n",
    "        return self.get_poly()\n",
    "    \n",
    "    \n",
    "    \n",
    "    \n",
    "    def __mul__(self,other):                     ## operator overloading for multiplication\n",
    "        length_Poly1 = len(self.get_poly())\n",
    "        length_Poly2 = len(other.get_poly())\n",
    "        coeff = []\n",
    "        power=[]\n",
    "        result=list()\n",
    "        term_wise_list=[]\n",
    "        result_length = length_Poly1 + length_Poly2-1\n",
    "        for i in range(result_length):\n",
    "            coeff.append(0)\n",
    "            power.append(0)\n",
    "        for i in range(length_Poly1):\n",
    "            for j in range(length_Poly2):\n",
    "                coeff[i+j] += self.sort()[i].coeff()*other.sort()[j].coeff()\n",
    "                power[i+j] = self.sort()[i].power()+other.sort()[j].power()\n",
    "        for i in range(result_length): \n",
    "            result.append((coeff[i],power[i]))\n",
    "            term_wise_list.append(singleterm(coeff[i],power[i]))\n",
    "        print(result)\n",
    "        return Polynomial(term_wise_list)\n",
    "    \n",
    "    \n",
    "                \n",
    "                \n",
    "                \n",
    "    def __add__(self,other):                                 ## operator overloading for addition\n",
    "        poly_list = []\n",
    "        min_len = min(len(self.get_poly()), len(other.get_poly()))\n",
    "        for iterator in range(min_len):\n",
    "            if self.get_poly()[iterator].power() == other.get_poly()[iterator].power():\n",
    "                sumCoeff = self.get_poly()[iterator].coeff() + other.get_poly()[iterator].coeff()\n",
    "                if sumCoeff != 0:\n",
    "                    poly_list.append((sumCoeff, self.get_poly()[iterator].power())) \n",
    "            if self.get_poly()[iterator].power() != other.get_poly()[iterator].power():\n",
    "                poly_list.append((self.get_poly()[iterator].coeff(),self.get_poly()[iterator].power()))\n",
    "                poly_list.append((other.get_poly()[iterator].coeff(),other.get_poly()[iterator].power()))\n",
    "        return(poly_list)\n",
    "    \n",
    "    \n",
    "    \n",
    "    def poly_plot(self):\n",
    "        sol = []\n",
    "        for j in range(-10, 11):\n",
    "            x = 0\n",
    "            for i in range(0, len(self.get_poly())):\n",
    "                x = x + (self.get_poly()[i].coeff() * (j**self.get_poly()[i].power()))\n",
    "                sol.append(x)\n",
    "        plt.plot(sol)\n",
    "\n",
    " \n",
    "\n",
    "                        \n",
    "                        "
   ]
  },
  {
   "cell_type": "markdown",
   "metadata": {},
   "source": [
    "## Poly 1"
   ]
  },
  {
   "cell_type": "code",
   "execution_count": 353,
   "metadata": {},
   "outputs": [],
   "source": [
    "p1=Polynomial([singleterm(1,5),singleterm(-3,3),singleterm(9,2),singleterm(5,1),singleterm(6,0)])"
   ]
  },
  {
   "cell_type": "code",
   "execution_count": 341,
   "metadata": {},
   "outputs": [
    {
     "data": {
      "text/plain": [
       "5"
      ]
     },
     "execution_count": 341,
     "metadata": {},
     "output_type": "execute_result"
    }
   ],
   "source": [
    "p1.order()"
   ]
  },
  {
   "cell_type": "code",
   "execution_count": 342,
   "metadata": {},
   "outputs": [
    {
     "name": "stdout",
     "output_type": "stream",
     "text": [
      "Given Equation is not Quadratic\n"
     ]
    }
   ],
   "source": [
    "p1.solve()"
   ]
  },
  {
   "cell_type": "code",
   "execution_count": null,
   "metadata": {},
   "outputs": [],
   "source": [
    "p1.poly_plot()"
   ]
  },
  {
   "cell_type": "markdown",
   "metadata": {},
   "source": [
    "## Poly 2"
   ]
  },
  {
   "cell_type": "code",
   "execution_count": 345,
   "metadata": {},
   "outputs": [],
   "source": [
    "p2=Polynomial([singleterm(1,3),singleterm(-8,1),singleterm(5,0)])"
   ]
  },
  {
   "cell_type": "code",
   "execution_count": 346,
   "metadata": {},
   "outputs": [
    {
     "data": {
      "text/plain": [
       "3"
      ]
     },
     "execution_count": 346,
     "metadata": {},
     "output_type": "execute_result"
    }
   ],
   "source": [
    "p2.order()"
   ]
  },
  {
   "cell_type": "code",
   "execution_count": 347,
   "metadata": {},
   "outputs": [
    {
     "name": "stdout",
     "output_type": "stream",
     "text": [
      "Given Equation is not Quadratic\n"
     ]
    }
   ],
   "source": [
    "p2.solve()"
   ]
  },
  {
   "cell_type": "code",
   "execution_count": null,
   "metadata": {},
   "outputs": [],
   "source": [
    "p2.poly_plot()"
   ]
  },
  {
   "cell_type": "markdown",
   "metadata": {},
   "source": [
    "## Poly 3"
   ]
  },
  {
   "cell_type": "code",
   "execution_count": 349,
   "metadata": {},
   "outputs": [],
   "source": [
    "p3=Polynomial([singleterm(1,2),singleterm(9,1),singleterm(7,0)])"
   ]
  },
  {
   "cell_type": "code",
   "execution_count": 350,
   "metadata": {},
   "outputs": [
    {
     "data": {
      "text/plain": [
       "2"
      ]
     },
     "execution_count": 350,
     "metadata": {},
     "output_type": "execute_result"
    }
   ],
   "source": [
    "p3.order()"
   ]
  },
  {
   "cell_type": "code",
   "execution_count": 351,
   "metadata": {
    "scrolled": true
   },
   "outputs": [
    {
     "name": "stdout",
     "output_type": "stream",
     "text": [
      "Given Equation is Quadratic\n",
      "[-8.14005494 -0.85994506]\n"
     ]
    }
   ],
   "source": [
    "p3.solve()"
   ]
  },
  {
   "cell_type": "code",
   "execution_count": null,
   "metadata": {},
   "outputs": [],
   "source": [
    "p3.poly_plot()"
   ]
  },
  {
   "cell_type": "markdown",
   "metadata": {},
   "source": [
    "## Part 4"
   ]
  },
  {
   "cell_type": "code",
   "execution_count": 321,
   "metadata": {},
   "outputs": [],
   "source": [
    "f=Polynomial([singleterm(3,1),singleterm(-1,0)])"
   ]
  },
  {
   "cell_type": "code",
   "execution_count": 322,
   "metadata": {},
   "outputs": [],
   "source": [
    "g=Polynomial([singleterm(-1,2),singleterm(2,0)])    ## this -g(x)"
   ]
  },
  {
   "cell_type": "code",
   "execution_count": 323,
   "metadata": {},
   "outputs": [],
   "source": [
    "p=Polynomial([singleterm(8,2),singleterm(4,0)])"
   ]
  },
  {
   "cell_type": "code",
   "execution_count": 325,
   "metadata": {
    "scrolled": true
   },
   "outputs": [
    {
     "name": "stdout",
     "output_type": "stream",
     "text": [
      "[(-8, 4), (12, 2), (8, 0)]\n"
     ]
    },
    {
     "data": {
      "text/plain": [
       "[(3, 1), (-8, 4), (-1, 0), (12, 2)]"
      ]
     },
     "execution_count": 325,
     "metadata": {},
     "output_type": "execute_result"
    }
   ],
   "source": [
    "f + (g*p)"
   ]
  },
  {
   "cell_type": "code",
   "execution_count": 354,
   "metadata": {},
   "outputs": [],
   "source": [
    "fpg=Polynomial([singleterm(-8,4),singleterm(12,2),singleterm(3,1),singleterm(-1,0)])"
   ]
  },
  {
   "cell_type": "code",
   "execution_count": 355,
   "metadata": {},
   "outputs": [
    {
     "data": {
      "image/png": "[encoded data removed]",
      "text/plain": [
       "<Figure size 432x288 with 1 Axes>"
      ]
     },
     "metadata": {},
     "output_type": "display_data"
    }
   ],
   "source": [
    "fpg.poly_plot()"
   ]
  },
  {
   "cell_type": "code",
   "execution_count": null,
   "metadata": {},
   "outputs": [],
   "source": []
  }
 ],
 "metadata": {
  "kernelspec": {
   "display_name": "Python 3",
   "language": "python",
   "name": "python3"
  },
  "language_info": {
   "codemirror_mode": {
    "name": "ipython",
    "version": 3
   },
   "file_extension": ".py",
   "mimetype": "text/x-python",
   "name": "python",
   "nbconvert_exporter": "python",
   "pygments_lexer": "ipython3",
   "version": "3.6.5"
  }
 },
 "nbformat": 4,
 "nbformat_minor": 2
}
