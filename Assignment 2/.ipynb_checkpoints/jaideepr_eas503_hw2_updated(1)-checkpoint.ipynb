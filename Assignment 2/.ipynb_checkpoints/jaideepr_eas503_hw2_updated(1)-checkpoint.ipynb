{
 "cells": [
  {
   "cell_type": "markdown",
   "metadata": {},
   "source": [
    "## EAS 503 Homework 2 Submission\n",
    "Name - _Jaideep Reddy Kommera_\n",
    "\n",
    "**Make sure that you rename the notebook file to *replacewithubitname*_eas503_hw2.ipynb**\n",
    "\n",
    "\n",
    "### Submission Details \n",
    "* **Due Date** - October 16, 2018 by 11:59 PM EST. All assignments have to be submitted using UBLearns.\n",
    "* **Number of Problems** - 4 \n",
    "* **Maximum points** - 50\n",
    "* **Collaboration policy**\n",
    " - Every student has to submit individual homeworks\n",
    " - Any collaboration, in the form of discussion, with other members of the class is permitted, as long as the names of the collaborating members are explicitly stated on top of the submitted homework.\n",
    " - Any overlap with another submission or material from Internet will be awarded an F.\n",
    "* **Late submission policy** - _No late submissions allowed_\n",
    "* **Submission Format** - Enter code for each problem in the appropriate cell below. You may use multiple cells for a single problem to improve readability."
   ]
  },
  {
   "cell_type": "markdown",
   "metadata": {},
   "source": [
    "### Problem 1 - Inheritance and Encapsulation (15 points)\n",
    "\n",
    "Consider a class of credit card accounts. A credit card account can have 2 types of credit cards:\n",
    "1. Primary card  \n",
    "2. Supplement card (Sup-card)\n",
    "\n",
    "Consider the following attributes of the cards:\n",
    "\n",
    "- A primary account is the main account to which multiple sup-cards are linked. \n",
    "\n",
    "- The primary credit card holder will be responsible for the bill payments for all the transactions on the primary card itself as well as all its supplimentary cards. \n",
    "\n",
    "- There are two types of credit limits:\n",
    "\n",
    "    1. Individual card limit (limiting the expenditure per card)\n",
    "\n",
    "    2. Account limit (limiting the total expenditure on primiary and the related sup-cards)\n",
    "\n",
    "$$Account\\ Limit >= Individual\\ Card\\ Limit$$\n",
    "\n",
    "- There are two types of expenditure (or balances):\n",
    "\n",
    "    1. Individual card expenditure (different for each card irrespective of primary or otherwise)\n",
    "\n",
    "    2. Account expenditure (total spending on primary and all the related sup-cards)\n",
    "\n",
    "$$Account\\ expenditure = \\Sigma(Individual\\ card\\ expenditure )$$ \n",
    "\n",
    "\n",
    "- Each sup-card has the same account limit as the primary credit card in that account. The account limit is the max of all card limts in that account. \n",
    "\n",
    "- Any transaction over the permitted limits must be denied i.e. transactions cannot lead to account expenditures being more than account limits. Also, transactions cannot lead to individual card expenditures being more than individual card limit.\n",
    "\n",
    "For this problem, design a class `PrimaryCard` with all the account details and primary credit card details included in the class. Construct a sub-class of supplementary card holder, `SupplementaryCard`, linked to a primary credit card account. Ensure that the sensitive details of all the accounts (credit card numbers, balance, account limit etc.) must saved and accessed securely. \n",
    "\n",
    "Use the `Account_details.txt` file to access the account details for 15 credit cards. The transaction details for the month of october are provided in `transaction.txt` file. Design an algorithm to update the account balance on all the accounts and plot the final account balance on each day for the month of october.\n",
    "\n",
    "Example:\n",
    "Suppose you have an account with 5 cards in it (1 primary and 4 sup-cards). \n",
    "\n",
    "Primary card limit= $100\n",
    "\n",
    "Each sup-card limit=$30\n",
    "\n",
    "Restrictions:\n",
    "\n",
    "- Account limit is $100 (max of 100 and 30)\n",
    "\n",
    "- Primary card cannot spend more than $100\n",
    "\n",
    "- All cards together cannot spend more than $100\n",
    "\n",
    "- Any sup-card cannot spend more than $30"
   ]
  },
  {
   "cell_type": "code",
   "execution_count": null,
   "metadata": {},
   "outputs": [],
   "source": [
    "#Enter your solution here"
   ]
  },
  {
   "cell_type": "code",
   "execution_count": 1,
   "metadata": {},
   "outputs": [],
   "source": [
    "class Primarycard:         ## Primary card class with all account details and primary car details\n",
    "    primarycard_dict = {}\n",
    "    def __init__(self,cust_id,card_no,acc_no,card_limit,current_bal,total_bal):\n",
    "        self.__cust_id=cust_id\n",
    "        self.__card_no=card_no\n",
    "        self.__acc_no=acc_no\n",
    "        self.__card_limit=card_limit\n",
    "        self.current_bal=current_bal\n",
    "        self.total_bal=total_bal\n",
    "        \n",
    "        \n",
    "    def cust_id(self):\n",
    "        return self.__cust_id\n",
    "    \n",
    "    def card_no(self):\n",
    "        return self.__card_no\n",
    "    \n",
    "    def acc_no(self):\n",
    "        return self.__acc_no\n",
    "    \n",
    "    def card_limit(self):\n",
    "        return self.__card_limit\n",
    "    \n",
    "    def current_bal(self):\n",
    "        return self.current_bal\n",
    "    \n",
    "    def total_bal(self):\n",
    "        return self.total_bal\n",
    "        \n",
    "\n",
    "    def current_balance(self,trans_amount):        ## updating primary card balance\n",
    "                self.current_bal=self.current_bal+trans_amount\n",
    "                if not self.card_no in Primarycard.primarycard_dict.keys(): \n",
    "                    Primarycard.primarycard_dict[self.card_no] = self.current_bal\n",
    "                    print(\"Card Balance:\",Primarycard.primarycard_dict[self.card_no])\n",
    "                else:\n",
    "                    Primarycard.primarycard_dict[self.card_no] = trans_amount + Primarycard.primarycard_dict[self.card_no]\n",
    "                    print(\"Card Balance:\",Primarycard.primarycard_dict[self.card_no])\n",
    "                    \n",
    "                    \n",
    "                    \n",
    "                    \n",
    "    def accountBalance(self,trans_amount):              ## updating total account balance\n",
    "        self.total_bal[self.__acc_no] = total_bal[self.__acc_no]+trans_amount\n",
    "        print(\"Account no.:%d\"%self.__acc_no,\"Balance:\",total_bal[self.__acc_no])\n",
    "        return total_bal[self.__acc_no]\n",
    "    \n",
    "    \n",
    "    def transaction_status(self,trans_amount,acc_no,account_limit):  ## checking the transaction status\n",
    "        if self.current_bal+trans_amount>self.__card_limit:\n",
    "            print(\"Card Limit Exceeded\")\n",
    "            return False\n",
    "        elif total_bal[acc_no]+trans_amount>account_limit:\n",
    "            print(\"Account Limit Exceeded\")\n",
    "            print(self.__card_limit)\n",
    "            return False\n",
    "        else: \n",
    "            print(\"Transaction Successful\")\n",
    "            return True\n",
    "    \n",
    "\n",
    "    \n",
    "class Secondarycard(Primarycard):       ## Secondary class with supplementary card exclusive details\n",
    "    secondarycard_dict = {}\n",
    "    def __init__(self,cust_id,card_no,acc_no,card_limit,current_bal,total_bal):\n",
    "        super().__init__(cust_id,card_no,acc_no,card_limit,current_bal,total_bal)\n",
    "    \n",
    "    def current_balance(self,transaction_amt):       ## updating secondary card balance\n",
    "        self.current_bal=self.current_bal+transaction_amt\n",
    "        if not self.card_no in Secondarycard.secondarycard_dict.keys(): \n",
    "            Secondarycard.secondarycard_dict[self.card_no] = self.current_bal\n",
    "            print(\"Card Balance:\",Secondarycard.secondarycard_dict[self.card_no])\n",
    "        else:\n",
    "            Secondarycard.secondarycard_dict[self.card_no] = transaction_amt+Secondarycard.secondarycard_dict[self.card_no]\n",
    "            print(\"Card Balance:\",Secondarycard.secondarycard_dict[self.card_no])\n",
    "                    \n",
    "    "
   ]
  },
  {
   "cell_type": "code",
   "execution_count": 2,
   "metadata": {},
   "outputs": [],
   "source": [
    "import pandas as pd   \n",
    "acc_details=pd.read_csv(\"Account_details.txt\",delimiter=\"\\t\")\n",
    "transactions=pd.read_csv(\"transaction.txt\",delimiter=\"\\t\")\n"
   ]
  },
  {
   "cell_type": "code",
   "execution_count": 3,
   "metadata": {},
   "outputs": [],
   "source": [
    "unique_acc_no=acc_details.Account_Number.unique()\n",
    "\n",
    "total_bal={}\n",
    "\n",
    "for i in unique_acc_no:\n",
    "    total_bal[i]=acc_details[acc_details['Account_Number'].isin([i])]['Current_Balance_within_card'].sum()"
   ]
  },
  {
   "cell_type": "code",
   "execution_count": 4,
   "metadata": {},
   "outputs": [
    {
     "name": "stdout",
     "output_type": "stream",
     "text": [
      "Transaction Successful\n",
      "Card Balance: 1780.3\n",
      "Account no.:4480 Balance: 5601.3\n",
      "Transaction Successful\n",
      "Card Balance: 2025.6\n",
      "Account no.:4652 Balance: 6948.6\n",
      "Transaction Successful\n",
      "Card Balance: 1325.3\n",
      "Account no.:4652 Balance: 6957.900000000001\n",
      "Transaction Successful\n",
      "Card Balance: 2055.9\n",
      "Account no.:5058 Balance: 9817.9\n",
      "Transaction Successful\n",
      "Card Balance: 365.0\n",
      "Account no.:4952 Balance: 988.0\n",
      "Transaction Successful\n",
      "Card Balance: 3213.7\n",
      "Account no.:4652 Balance: 6965.6\n",
      "Account Limit Exceeded\n",
      "1000\n",
      "Transaction Successful\n",
      "Card Balance: 1370.5\n",
      "Account no.:4652 Balance: 7020.1\n",
      "Transaction Successful\n",
      "Card Balance: 1777.2\n",
      "Account no.:4480 Balance: 5619.5\n",
      "Transaction Successful\n",
      "Card Balance: 457.4\n",
      "Account no.:4652 Balance: 7076.5\n",
      "Transaction Successful\n",
      "Card Balance: 1805.0\n",
      "Account no.:4480 Balance: 5665.5\n",
      "Transaction Successful\n",
      "Card Balance: 462.6\n",
      "Account no.:4652 Balance: 7138.1\n",
      "Transaction Successful\n",
      "Card Balance: 1355.5\n",
      "Account no.:4652 Balance: 7177.6\n",
      "Account Limit Exceeded\n",
      "1000\n",
      "Transaction Successful\n",
      "Card Balance: 2428.7\n",
      "Account no.:4480 Balance: 5683.2\n",
      "Transaction Successful\n",
      "Card Balance: 1695.6\n",
      "Account no.:5216 Balance: 1695.6\n",
      "Account Limit Exceeded\n",
      "1000\n",
      "Transaction Successful\n",
      "Card Balance: 2021.1\n",
      "Account no.:4652 Balance: 7197.700000000001\n",
      "Transaction Successful\n",
      "Card Balance: 1437.0\n",
      "Account no.:4480 Balance: 5710.2\n",
      "Transaction Successful\n",
      "Card Balance: 439.2\n",
      "Account no.:4652 Balance: 7235.900000000001\n",
      "Transaction Successful\n",
      "Card Balance: 1027.8\n",
      "Account no.:5232 Balance: 8779.8\n",
      "Transaction Successful\n",
      "Card Balance: 404.7\n",
      "Account no.:4652 Balance: 7239.6\n",
      "Transaction Successful\n",
      "Card Balance: 1693.1\n",
      "Account no.:5216 Balance: 1706.6999999999998\n",
      "Account Limit Exceeded\n",
      "1000\n",
      "Account Limit Exceeded\n",
      "1000\n",
      "Transaction Successful\n",
      "Card Balance: 1435.4\n",
      "Account no.:4480 Balance: 5735.599999999999\n",
      "Transaction Successful\n",
      "Card Balance: 408.7\n",
      "Account no.:4652 Balance: 7247.3\n",
      "Account Limit Exceeded\n",
      "1000\n",
      "Transaction Successful\n",
      "Card Balance: 2090.0\n",
      "Account no.:5058 Balance: 9897.9\n",
      "Transaction Successful\n",
      "Card Balance: 11262.0\n",
      "Account no.:5058 Balance: 13397.9\n",
      "Transaction Successful\n",
      "Card Balance: 2033.4\n",
      "Account no.:4652 Balance: 7279.7\n",
      "Transaction Successful\n",
      "Card Balance: 1054.2\n",
      "Account no.:5232 Balance: 8856.0\n",
      "Account Limit Exceeded\n",
      "1000\n",
      "Account Limit Exceeded\n",
      "1000\n",
      "Transaction Successful\n",
      "Card Balance: 2218.1\n",
      "Account no.:5058 Balance: 13606.0\n",
      "Transaction Successful\n",
      "Card Balance: 418.7\n",
      "Account no.:4652 Balance: 7297.4\n",
      "Transaction Successful\n",
      "Card Balance: 2473.8\n",
      "Account no.:4480 Balance: 5798.4\n",
      "Transaction Successful\n",
      "Card Balance: 2052.2\n",
      "Account no.:5058 Balance: 13648.2\n",
      "Account Limit Exceeded\n",
      "1000\n",
      "Account Limit Exceeded\n",
      "1000\n",
      "Transaction Successful\n",
      "Card Balance: 2072.0\n",
      "Account no.:4652 Balance: 7368.4\n",
      "Transaction Successful\n",
      "Card Balance: 390.6\n",
      "Account no.:4952 Balance: 995.6\n",
      "Transaction Successful\n",
      "Card Balance: 1434.6\n",
      "Account no.:4480 Balance: 5823.0\n",
      "Transaction Successful\n",
      "Card Balance: 7816.7\n",
      "Account no.:5232 Balance: 8920.7\n",
      "Transaction Successful\n",
      "Card Balance: 7802.2\n",
      "Account no.:5058 Balance: 13688.400000000001\n",
      "Transaction Successful\n",
      "Card Balance: 1786.4\n",
      "Account no.:4480 Balance: 5850.4\n",
      "Transaction Successful\n",
      "Card Balance: 3876.0\n",
      "Account no.:4652 Balance: 8038.4\n",
      "Transaction Successful\n",
      "Card Balance: 1751.6\n",
      "Account no.:5216 Balance: 1776.2999999999997\n",
      "Transaction Successful\n",
      "Card Balance: 1821.4\n",
      "Account no.:4480 Balance: 5912.799999999999\n",
      "Transaction Successful\n",
      "Card Balance: 2055.0\n",
      "Account no.:4652 Balance: 8092.4\n",
      "Transaction Successful\n",
      "Card Balance: 7770.9\n",
      "Account no.:5232 Balance: 8939.6\n",
      "Transaction Successful\n",
      "Card Balance: 7824.7\n",
      "Account no.:5232 Balance: 9012.300000000001\n",
      "Transaction Successful\n",
      "Card Balance: 3245.9\n",
      "Account no.:4652 Balance: 8132.299999999999\n",
      "Transaction Successful\n",
      "Card Balance: 1428.8\n",
      "Account no.:4480 Balance: 5931.599999999999\n",
      "Transaction Successful\n",
      "Card Balance: 2046.4\n",
      "Account no.:4652 Balance: 8177.699999999999\n",
      "Transaction Successful\n",
      "Card Balance: 2047.4\n",
      "Account no.:5058 Balance: 13725.800000000001\n",
      "Transaction Successful\n",
      "Card Balance: 7805.7\n",
      "Account no.:5058 Balance: 13769.500000000002\n",
      "Transaction Successful\n",
      "Card Balance: 1733.2\n",
      "Account no.:5216 Balance: 1827.4999999999998\n",
      "Transaction Successful\n",
      "Card Balance: 442.2\n",
      "Account no.:4652 Balance: 8218.9\n",
      "Account Limit Exceeded\n",
      "1000\n",
      "Transaction Successful\n",
      "Card Balance: 7770.7\n",
      "Account no.:5232 Balance: 9031.000000000002\n",
      "Transaction Successful\n",
      "Card Balance: 2081.4\n",
      "Account no.:5058 Balance: 13840.900000000001\n",
      "Transaction Successful\n",
      "Card Balance: 1809.9\n",
      "Account no.:4480 Balance: 5982.499999999999\n",
      "Transaction Successful\n",
      "Card Balance: 2070.6\n",
      "Account no.:4652 Balance: 8288.5\n",
      "Transaction Successful\n",
      "Card Balance: 1730.3\n",
      "Account no.:5216 Balance: 1875.7999999999997\n",
      "Transaction Successful\n",
      "Card Balance: 7855.3\n",
      "Account no.:5058 Balance: 13934.2\n",
      "Account Limit Exceeded\n",
      "1000\n",
      "Transaction Successful\n",
      "Card Balance: 1770.4\n",
      "Account no.:5216 Balance: 1964.1999999999998\n",
      "Transaction Successful\n",
      "Card Balance: 2071.3\n",
      "Account no.:4652 Balance: 8358.8\n",
      "Transaction Successful\n",
      "Card Balance: 1358.0\n",
      "Account no.:4652 Balance: 8400.8\n",
      "Transaction Successful\n",
      "Card Balance: 2447.8\n",
      "Account no.:4480 Balance: 6019.299999999999\n",
      "Account Limit Exceeded\n",
      "1000\n",
      "Transaction Successful\n",
      "Card Balance: 1389.0\n",
      "Account no.:4652 Balance: 8473.8\n",
      "Account Limit Exceeded\n",
      "1000\n",
      "Transaction Successful\n",
      "Card Balance: 1330.7\n",
      "Account no.:4652 Balance: 8488.5\n",
      "Transaction Successful\n",
      "Card Balance: 7761.3\n",
      "Account no.:5232 Balance: 9040.300000000001\n",
      "Transaction Successful\n",
      "Card Balance: 8562.0\n",
      "Account no.:5058 Balance: 14734.2\n",
      "Transaction Successful\n",
      "Card Balance: 462.0\n",
      "Account no.:4652 Balance: 8549.5\n",
      "Transaction Successful\n",
      "Card Balance: 2490.2\n",
      "Account no.:4480 Balance: 6098.499999999999\n",
      "Account Limit Exceeded\n",
      "1000\n",
      "Transaction Successful\n",
      "Card Balance: 1704.8\n",
      "Account no.:5216 Balance: 1986.9999999999998\n",
      "Transaction Successful\n",
      "Card Balance: 1779.8\n",
      "Account no.:4480 Balance: 6119.299999999999\n",
      "Account Limit Exceeded\n",
      "1000\n",
      "Transaction Successful\n",
      "Card Balance: 3247.2\n",
      "Account no.:4652 Balance: 8590.7\n",
      "Transaction Successful\n",
      "Card Balance: 994.6\n",
      "Account no.:5232 Balance: 9056.900000000001\n",
      "Transaction Successful\n",
      "Card Balance: 7790.3\n",
      "Account no.:5058 Balance: 14762.5\n",
      "Transaction Successful\n",
      "Card Balance: 1506.1\n",
      "Account no.:4480 Balance: 6215.4\n",
      "Transaction Successful\n",
      "Card Balance: 1714.2\n",
      "Account no.:5216 Balance: 2019.1999999999998\n",
      "Transaction Successful\n",
      "Card Balance: 7807.7\n",
      "Account no.:5232 Balance: 9112.600000000002\n",
      "Transaction Successful\n",
      "Card Balance: 7855.3\n",
      "Account no.:5058 Balance: 14855.8\n",
      "Transaction Successful\n",
      "Card Balance: 1772.8\n",
      "Account no.:4480 Balance: 6229.2\n",
      "Transaction Successful\n",
      "Card Balance: 1390.3\n",
      "Account no.:4652 Balance: 8665.0\n",
      "Transaction Successful\n",
      "Card Balance: 1690.8\n",
      "Account no.:5216 Balance: 2027.9999999999998\n",
      "Transaction Successful\n",
      "Card Balance: 1336.7\n",
      "Account no.:4652 Balance: 8685.7\n",
      "Transaction Successful\n",
      "Card Balance: 488.6\n",
      "Account no.:4652 Balance: 8773.300000000001\n",
      "Transaction Successful\n",
      "Card Balance: 1502.6\n",
      "Account no.:4480 Balance: 6321.8\n",
      "Transaction Successful\n",
      "Card Balance: 1009.5\n",
      "Account no.:5232 Balance: 9144.100000000002\n",
      "Transaction Successful\n",
      "Card Balance: 7849.7\n",
      "Account no.:5232 Balance: 9241.800000000003\n",
      "Transaction Successful\n",
      "Card Balance: 2429.4\n",
      "Account no.:4480 Balance: 6340.2\n",
      "Transaction Successful\n",
      "Card Balance: 2052.9\n",
      "Account no.:4652 Balance: 8825.2\n"
     ]
    }
   ],
   "source": [
    "for i in range(0,len(transactions)):\n",
    "    cust_id=transactions.Customer_ID[i]\n",
    "    tran=transactions.Transaction_amount[i]\n",
    "    date =transactions.Date[i]\n",
    "\n",
    "    p_or_s=acc_details[acc_details['Customer_ID'].isin([cust_id])]['Primary_or_Sup_card_indicator']\n",
    "\n",
    "    cust_id=acc_details[acc_details['Customer_ID'].isin([cust_id])]['Customer_ID'].item()\n",
    "\n",
    "    card_no=acc_details[acc_details['Customer_ID'].isin([cust_id])]['Card_number'].item()\n",
    "\n",
    "    acc_no=acc_details[acc_details['Customer_ID'].isin([cust_id])]['Account_Number'].item()\n",
    "\n",
    "    card_limit=acc_details[acc_details['Customer_ID'].isin([cust_id])]['Card_Limit'].item()\n",
    "    \n",
    "    account_limit=max(acc_details[acc_details['Account_Number'].isin([acc_no])]['Card_Limit'])\n",
    "\n",
    "    curr_bal=acc_details[acc_details['Customer_ID'].isin([cust_id])]['Current_Balance_within_card'].item()\n",
    "\n",
    "    if p_or_s.item()=='S':                                        ## checking for primary or supplemenatary card\n",
    "        a=Secondarycard(cust_id,card_no,acc_no,card_limit,curr_bal,total_bal)\n",
    "        c=Primarycard(cust_id,card_no,acc_no,card_limit,curr_bal,total_bal)\n",
    "        if c.transaction_status(tran,acc_no,account_limit):\n",
    "            a.current_balance(tran)\n",
    "            c.accountBalance(tran)\n",
    "    elif p_or_s.item()=='P':\n",
    "        b=Primarycard(cust_id,card_no,acc_no,card_limit,curr_bal,total_bal)\n",
    "        if b.transaction_status(tran,acc_no,account_limit):\n",
    "            b.current_balance(tran)\n",
    "            b.accountBalance(tran)\n",
    "\n",
    "    \n",
    "    "
   ]
  },
  {
   "cell_type": "code",
   "execution_count": 5,
   "metadata": {},
   "outputs": [
    {
     "data": {
      "text/plain": [
       "{4652: 8825.2,\n",
       " 5232: 9241.800000000003,\n",
       " 5216: 2027.9999999999998,\n",
       " 4480: 6340.2,\n",
       " 5058: 14855.8,\n",
       " 4952: 995.6}"
      ]
     },
     "execution_count": 5,
     "metadata": {},
     "output_type": "execute_result"
    }
   ],
   "source": [
    "total_bal"
   ]
  },
  {
   "cell_type": "code",
   "execution_count": null,
   "metadata": {},
   "outputs": [],
   "source": []
  },
  {
   "cell_type": "markdown",
   "metadata": {},
   "source": [
    "### Problem 2 - Polynomials (15 Points)\n",
    "\n",
    "Consider a general form of an nth order polynomial. You are asked to implement a polynomial of arbitrary degree using classes in python. For instance consider the polynomial:\n",
    "$$7x^4 + 2x^2 + 5 = 0$$\n",
    "\n",
    "For this implements the following steps:\n",
    "1. Implement a class that represents a single term. \n",
    "2. Implement a class for the entire polynomial. \n",
    "3. Implement an operator ($*$) to multiply two single terms, a term and a polynomial, and two polynomials. (__Note__: _you can overload the $*$ operator in Python by defining a method called ``__mul__(self,other):`` and make it mutiply the ``self`` object with the ``other`` object)\n",
    "4. Implement an operator(s) that enables addition of a term and a polynomial and/or two polynomials. (__Note__: _you can overload the  $+$  operator in Python by defining a method called ``__add__(self,other)``: and make it add the self object with the other object)\n",
    "5. Implement the following two internal methods within ``Polynomial`` class:\n",
    "    - ``order()``, which returns the order of the polynomial (as an ``int``).\n",
    "    - ``solve()``, which returns solutions for the polynomial (a ``list`` of roots). Only do it for quadratic polynomials, and raise an exception for higher order polynomials.\n",
    "6. Implement an external function that plots the polynomial on a domain of [-10,10] (you will have to use _matplotlib_ rountines for this).\n",
    "7. Include a destructor function for the polynomial class.\n",
    "\n",
    "Use the above class definitions and operators to generate the solutions (wherever needed) for the following set of polynomials:\n",
    "\n",
    "1. $x^5 -3x^3 +9x^2+5x+6=0$\n",
    "2. $x^3 -8x +5=0$\n",
    "3. $x^2+9x+7=0$\n",
    "3. Consider the following three polynomials: $f(x)=3x-1,$ $g(x)=x^2-2$ and $p(x)=8x^2 +4$. Plot the function $f(x)-g(x)*p(x)=0$ by taking $f,g,p$ as input functions. For this, use the ``__mul__(self,other)`` and ``__add__(self,other)`` methods.\n",
    "\n",
    "Note: Here you are basically asked to define the basis for the vector space of real polynomials and define all the vector operations."
   ]
  },
  {
   "cell_type": "code",
   "execution_count": 6,
   "metadata": {},
   "outputs": [],
   "source": [
    "#Enter your solution here"
   ]
  },
  {
   "cell_type": "code",
   "execution_count": 7,
   "metadata": {},
   "outputs": [],
   "source": [
    "import numpy as np\n",
    "import matplotlib.pyplot as plt"
   ]
  },
  {
   "cell_type": "code",
   "execution_count": 8,
   "metadata": {},
   "outputs": [],
   "source": [
    "class singleterm:\n",
    "    def __init__(self,coefficients,polypow):             ## term order (coefficients,power)\n",
    "        self.polypow=polypow\n",
    "        self.coefficients=coefficients\n",
    "        \n",
    "    def power(self):\n",
    "        return self.polypow\n",
    "    \n",
    "    def coeff(self):\n",
    "        return self.coefficients\n",
    "        "
   ]
  },
  {
   "cell_type": "code",
   "execution_count": 9,
   "metadata": {},
   "outputs": [],
   "source": [
    "class Polynomial:\n",
    "    \n",
    "    def __init__(self,terms):\n",
    "        self.terms=terms\n",
    "        \n",
    "    def get_poly(self):\n",
    "        return self.terms       ## this method will let user access polynomial terms from polynomial class object\n",
    "    \n",
    "    \n",
    "    def order(self):            ## gives the order of the poly\n",
    "        max=0\n",
    "        for i in range(0,len(self.get_poly())):\n",
    "            if self.terms[i].power()>max:\n",
    "                max=self.terms[i].power()\n",
    "        return max\n",
    "            \n",
    "        \n",
    "    def solve(self):              ## solves quadratic equations only throws an exception for the rest\n",
    "            x=list()\n",
    "            try:\n",
    "                if self.order()>2:\n",
    "                    raise ValueError(\"Given Equation is not Quadratic\")\n",
    "                else:\n",
    "                    print(\"Given Equation is Quadratic\")\n",
    "                    for i in range(0,len(self.get_poly())):\n",
    "                        x.append(self.get_poly()[i].coeff())\n",
    "                    print(np.roots(x))\n",
    "            except ValueError as e:\n",
    "                print(e)\n",
    "                \n",
    "                \n",
    "                \n",
    "    def sort(self):                   ### this function sorts the order of the polynomial \n",
    "        temp=0\n",
    "        for i in range(0,len(self.get_poly())-1):\n",
    "            if self.get_poly()[i+1].power()>self.get_poly()[i].power():\n",
    "                temp=self.get_poly()[i]\n",
    "                self.get_poly()[i]=self.get_poly()[i+1]\n",
    "                self.get_poly()[i+1]=temp\n",
    "        return self.get_poly()\n",
    "    \n",
    "    \n",
    "    \n",
    "    \n",
    "    def __mul__(self,other):                     ## operator overloading for multiplication\n",
    "        length_Poly1 = len(self.get_poly())\n",
    "        length_Poly2 = len(other.get_poly())\n",
    "        coeff = []\n",
    "        power=[]\n",
    "        result=list()\n",
    "        term_wise_list=[]\n",
    "        result_length = length_Poly1 + length_Poly2-1\n",
    "        for i in range(result_length):\n",
    "            coeff.append(0)\n",
    "            power.append(0)\n",
    "        for i in range(length_Poly1):\n",
    "            for j in range(length_Poly2):\n",
    "                coeff[i+j] += self.sort()[i].coeff()*other.sort()[j].coeff()\n",
    "                power[i+j] = self.sort()[i].power()+other.sort()[j].power()\n",
    "        for i in range(result_length): \n",
    "            result.append((coeff[i],power[i]))\n",
    "            term_wise_list.append(singleterm(coeff[i],power[i]))\n",
    "        print(result)\n",
    "        return Polynomial(term_wise_list)\n",
    "    \n",
    "    \n",
    "                \n",
    "                \n",
    "                \n",
    "    def __add__(self,other):                                 ## operator overloading for addition\n",
    "        poly_list = []\n",
    "        min_len = min(len(self.get_poly()), len(other.get_poly()))\n",
    "        for iterator in range(min_len):\n",
    "            if self.get_poly()[iterator].power() == other.get_poly()[iterator].power():\n",
    "                sumCoeff = self.get_poly()[iterator].coeff() + other.get_poly()[iterator].coeff()\n",
    "                if sumCoeff != 0:\n",
    "                    poly_list.append((sumCoeff, self.get_poly()[iterator].power())) \n",
    "            if self.get_poly()[iterator].power() != other.get_poly()[iterator].power():\n",
    "                poly_list.append((self.get_poly()[iterator].coeff(),self.get_poly()[iterator].power()))\n",
    "                poly_list.append((other.get_poly()[iterator].coeff(),other.get_poly()[iterator].power()))\n",
    "        return(poly_list)\n",
    "    \n",
    "    \n",
    "    \n",
    "    def poly_plot(self):\n",
    "        sol = []\n",
    "        for j in range(-10, 11):\n",
    "            x = 0\n",
    "            for i in range(0, len(self.get_poly())):\n",
    "                x = x + (self.get_poly()[i].coeff() * (j**self.get_poly()[i].power()))\n",
    "                sol.append(x)\n",
    "        plt.plot(sol)\n",
    "\n",
    " \n",
    "\n",
    "                        \n",
    "                        "
   ]
  },
  {
   "cell_type": "markdown",
   "metadata": {},
   "source": [
    "## Poly 1"
   ]
  },
  {
   "cell_type": "code",
   "execution_count": 10,
   "metadata": {},
   "outputs": [],
   "source": [
    "p1=Polynomial([singleterm(1,5),singleterm(-3,3),singleterm(9,2),singleterm(5,1),singleterm(6,0)])"
   ]
  },
  {
   "cell_type": "code",
   "execution_count": 11,
   "metadata": {},
   "outputs": [
    {
     "data": {
      "text/plain": [
       "5"
      ]
     },
     "execution_count": 11,
     "metadata": {},
     "output_type": "execute_result"
    }
   ],
   "source": [
    "p1.order()"
   ]
  },
  {
   "cell_type": "code",
   "execution_count": 12,
   "metadata": {},
   "outputs": [
    {
     "name": "stdout",
     "output_type": "stream",
     "text": [
      "Given Equation is not Quadratic\n"
     ]
    }
   ],
   "source": [
    "p1.solve()"
   ]
  },
  {
   "cell_type": "code",
   "execution_count": null,
   "metadata": {},
   "outputs": [],
   "source": [
    "p1.poly_plot()"
   ]
  },
  {
   "cell_type": "markdown",
   "metadata": {},
   "source": [
    "## Poly 2"
   ]
  },
  {
   "cell_type": "code",
   "execution_count": 13,
   "metadata": {},
   "outputs": [],
   "source": [
    "p2=Polynomial([singleterm(1,3),singleterm(-8,1),singleterm(5,0)])"
   ]
  },
  {
   "cell_type": "code",
   "execution_count": 14,
   "metadata": {},
   "outputs": [
    {
     "data": {
      "text/plain": [
       "3"
      ]
     },
     "execution_count": 14,
     "metadata": {},
     "output_type": "execute_result"
    }
   ],
   "source": [
    "p2.order()"
   ]
  },
  {
   "cell_type": "code",
   "execution_count": 15,
   "metadata": {},
   "outputs": [
    {
     "name": "stdout",
     "output_type": "stream",
     "text": [
      "Given Equation is not Quadratic\n"
     ]
    }
   ],
   "source": [
    "p2.solve()"
   ]
  },
  {
   "cell_type": "code",
   "execution_count": null,
   "metadata": {},
   "outputs": [],
   "source": [
    "p2.poly_plot()"
   ]
  },
  {
   "cell_type": "markdown",
   "metadata": {},
   "source": [
    "## Poly 3"
   ]
  },
  {
   "cell_type": "code",
   "execution_count": 16,
   "metadata": {},
   "outputs": [],
   "source": [
    "p3=Polynomial([singleterm(1,2),singleterm(9,1),singleterm(7,0)])"
   ]
  },
  {
   "cell_type": "code",
   "execution_count": 17,
   "metadata": {},
   "outputs": [
    {
     "data": {
      "text/plain": [
       "2"
      ]
     },
     "execution_count": 17,
     "metadata": {},
     "output_type": "execute_result"
    }
   ],
   "source": [
    "p3.order()"
   ]
  },
  {
   "cell_type": "code",
   "execution_count": 18,
   "metadata": {
    "scrolled": true
   },
   "outputs": [
    {
     "name": "stdout",
     "output_type": "stream",
     "text": [
      "Given Equation is Quadratic\n",
      "[-8.14005494 -0.85994506]\n"
     ]
    }
   ],
   "source": [
    "p3.solve()"
   ]
  },
  {
   "cell_type": "code",
   "execution_count": null,
   "metadata": {},
   "outputs": [],
   "source": [
    "p3.poly_plot()"
   ]
  },
  {
   "cell_type": "markdown",
   "metadata": {},
   "source": [
    "## Part 4"
   ]
  },
  {
   "cell_type": "code",
   "execution_count": 19,
   "metadata": {},
   "outputs": [],
   "source": [
    "f=Polynomial([singleterm(3,1),singleterm(-1,0)])"
   ]
  },
  {
   "cell_type": "code",
   "execution_count": 20,
   "metadata": {},
   "outputs": [],
   "source": [
    "g=Polynomial([singleterm(-1,2),singleterm(2,0)])    ## this -g(x)"
   ]
  },
  {
   "cell_type": "code",
   "execution_count": 21,
   "metadata": {},
   "outputs": [],
   "source": [
    "p=Polynomial([singleterm(8,2),singleterm(4,0)])"
   ]
  },
  {
   "cell_type": "code",
   "execution_count": 22,
   "metadata": {
    "scrolled": true
   },
   "outputs": [
    {
     "name": "stdout",
     "output_type": "stream",
     "text": [
      "[(-8, 4), (12, 2), (8, 0)]\n"
     ]
    },
    {
     "data": {
      "text/plain": [
       "[(3, 1), (-8, 4), (-1, 0), (12, 2)]"
      ]
     },
     "execution_count": 22,
     "metadata": {},
     "output_type": "execute_result"
    }
   ],
   "source": [
    "f + (g*p)                          ## f(x)+(-g(x)*p(x))"
   ]
  },
  {
   "cell_type": "code",
   "execution_count": 23,
   "metadata": {},
   "outputs": [],
   "source": [
    "fpg=Polynomial([singleterm(-8,4),singleterm(12,2),singleterm(3,1),singleterm(-1,0)])"
   ]
  },
  {
   "cell_type": "code",
   "execution_count": 24,
   "metadata": {},
   "outputs": [
    {
     "data": {
      "image/png": "[encoded data removed]",
      "text/plain": [
       "<Figure size 432x288 with 1 Axes>"
      ]
     },
     "metadata": {},
     "output_type": "display_data"
    }
   ],
   "source": [
    "fpg.poly_plot()"
   ]
  },
  {
   "cell_type": "code",
   "execution_count": null,
   "metadata": {},
   "outputs": [],
   "source": []
  },
  {
   "cell_type": "markdown",
   "metadata": {},
   "source": [
    "### Problem 3 - Random Walk (10 Points)\n",
    "\n",
    "Imagine you are standing at (0,0) on the real plane. At every time step, assume you either take a step of random length, say `c`, in one of the four directions (right, left, up, down) with equal probability. This means that after one time step, your new location can be (c,0), (-c,0), (0,c) or (0,-c) with equal probability.\n",
    "\n",
    "For this, create a class `Walker`. The class needs to store the following information:\n",
    "- current position of the walker, where the position is a 2-tuple. You can initialize it to (0,0)\n",
    "- path taken so far by the walker (initially this list will only contain the current position)\n",
    "- method called ``getDirection()`` that determines the direction for the next step (one out of four possible directions: right, left, up, down). To determine the direction, sample a random value from the set {1,2,3,4} using `np.random.randint(0,N)` and assign each outcome to a unit step movement in a particular direction.\n",
    "- method called ``getLength()`` that determines the length for the next step (one out of six possible lengths: 0,1,2,3,4,5). To determine the length, sample a random value from the set {1,2,3,4,5,6} using `np.random.randint(0,N)` and assign each outcome to a step length.\n",
    "- method called ``walk()`` which changes the current position of the walker in a specifed direction. Make sure to update the path field to incorporate the next position.\n",
    "\n",
    "After implementing the `Walker` class, you need to conduct the following experiment.\n",
    "Suppose you want to figure out, how many steps will it take for the walker to go outside a pre-defined perimeter (centered at (0,0)). You will have simulate a random walk and keep checking the current position to figure that out. \n",
    "\n",
    "Write a code to run the following simulation:\n",
    "Starting from (0,0), have your walker randomly walk around (using the defined ``walk()`` method), until it steps out of a rectangular area with vertices as: (-20,-20), (-20,20), (20,20), (20,-20). Count the number of steps taken before the walker leaves the area. Repeat the simulation 5 times and report the average number of steps taken by the walker before it exits the area.\n",
    "\n",
    "Plot the path taken in each of the 5 simulation runs (you should all five walks in one graph using different colors)."
   ]
  },
  {
   "cell_type": "code",
   "execution_count": null,
   "metadata": {},
   "outputs": [],
   "source": [
    "#Enter your solution here"
   ]
  },
  {
   "cell_type": "code",
   "execution_count": 25,
   "metadata": {},
   "outputs": [],
   "source": [
    "import numpy as np"
   ]
  },
  {
   "cell_type": "code",
   "execution_count": 26,
   "metadata": {},
   "outputs": [],
   "source": [
    "import matplotlib.pyplot as plt"
   ]
  },
  {
   "cell_type": "code",
   "execution_count": 27,
   "metadata": {},
   "outputs": [],
   "source": [
    "%matplotlib inline"
   ]
  },
  {
   "cell_type": "code",
   "execution_count": 28,
   "metadata": {},
   "outputs": [],
   "source": [
    "color_list=['red','green','blue','yellow','purple']    ## colours for the plot"
   ]
  },
  {
   "cell_type": "code",
   "execution_count": 29,
   "metadata": {},
   "outputs": [
    {
     "name": "stdout",
     "output_type": "stream",
     "text": [
      "The taken path is\n",
      "[(0, 0), (-6, 0), (-6, -2), (-9, -2), (-9, -7), (-9, -2), (-3, -2), (-1, -2), (-1, 0), (4, 0), (1, 0), (6, 0), (10, 0), (4, 0), (4, -3), (3, -3), (3, -9), (4, -9), (4, -3), (10, -3), (15, -3), (12, -3), (7, -3), (7, -1), (4, -1), (4, 4), (4, 8), (4, 3), (4, 7), (8, 7), (14, 7), (19, 7), (19, 1), (19, -3), (19, -4), (19, -8), (20, -8), (20, -12), (26, -12)]\n",
      "The number of steps taken are:38\n",
      "The taken path is\n",
      "[(0, 0), (0, -4), (0, -7), (0, -12), (0, -13), (-4, -13), (-7, -13), (-7, -9), (-9, -9), (-9, -3), (-9, -6), (-9, -5), (-9, -6), (-9, -3), (-9, -1), (-9, 2), (-9, 8), (-15, 8), (-15, 7), (-19, 7), (-23, 7)]\n",
      "The number of steps taken are:20\n",
      "The taken path is\n",
      "[(0, 0), (5, 0), (5, -5), (8, -5), (8, -1), (8, -4), (6, -4), (6, -10), (6, -11), (7, -11), (7, -15), (13, -15), (13, -21)]\n",
      "The number of steps taken are:12\n",
      "The taken path is\n",
      "[(0, 0), (-6, 0), (-6, 4), (-6, -2), (-6, 4), (-2, 4), (-7, 4), (-7, 5), (-4, 5), (-3, 5), (-3, 7), (-3, 6), (-3, 12), (-1, 12), (-1, 15), (-1, 11), (-1, 16), (-3, 16), (-3, 12), (-3, 7), (-3, 4), (3, 4), (3, 1), (8, 1), (8, 0), (13, 0), (13, 6), (16, 6), (16, 7), (21, 7)]\n",
      "The number of steps taken are:29\n",
      "The taken path is\n",
      "[(0, 0), (5, 0), (5, 6), (0, 6), (0, 12), (0, 18), (0, 12), (0, 16), (4, 16), (0, 16), (-4, 16), (-10, 16), (-10, 12), (-5, 12), (-11, 12), (-11, 7), (-9, 7), (-9, 5), (-13, 5), (-13, 0), (-13, 1), (-15, 1), (-15, -1), (-21, -1)]\n",
      "The number of steps taken are:23\n"
     ]
    },
    {
     "data": {
      "image/png": "[encoded data removed]",
      "text/plain": [
       "<Figure size 432x288 with 1 Axes>"
      ]
     },
     "metadata": {},
     "output_type": "display_data"
    }
   ],
   "source": [
    "for j in range(0,5):\n",
    "    class walker:                      \n",
    "        path=[(0,0)]               # position denoted as x,y\n",
    "        x=0\n",
    "        y=0\n",
    "        steps=0\n",
    "    \n",
    "    \n",
    "    \n",
    "        def get_direction(self):\n",
    "            self.direction=np.random.randint(1,5)\n",
    "    \n",
    "        def get_len(self):\n",
    "            self.step_size=np.random.randint(1,7)\n",
    "    \n",
    "    \n",
    "        def walk(self):\n",
    "            if self.direction==1 and walker.y<=20 and walker.y>=-20 and walker.x>=-20 and walker.x<=20:\n",
    "                walker.y=walker.y+self.step_size\n",
    "                walker.steps=walker.steps+1\n",
    "                walker.path.append((walker.x,walker.y))\n",
    "            \n",
    "            \n",
    "            \n",
    "            elif self.direction==2 and walker.y<=20 and walker.y>=-20 and walker.x>=-20 and walker.x<=20:\n",
    "                walker.y=walker.y-self.step_size\n",
    "                walker.steps=walker.steps+1\n",
    "                walker.path.append((walker.x,walker.y))\n",
    "            \n",
    "            \n",
    "            \n",
    "            \n",
    "            elif self.direction==3 and walker.x>=-20 and walker.x<=20 and walker.y<=20 and walker.y>=-20:\n",
    "                walker.x=walker.x+self.step_size\n",
    "                walker.steps=walker.steps+1\n",
    "                walker.path.append((walker.x,walker.y))\n",
    "            \n",
    "            \n",
    "            \n",
    "            \n",
    "            elif self.direction==4 and walker.x>=-20 and walker.x<=20 and walker.y<=20 and walker.y>=-20:\n",
    "                walker.x=walker.x-self.step_size\n",
    "                walker.steps=walker.steps+1\n",
    "                walker.path.append((walker.x,walker.y))\n",
    "                \n",
    "    for i in range(1,100):\n",
    "        a=walker()\n",
    "        a.get_direction()\n",
    "        a.get_len()\n",
    "        a.walk()\n",
    "        \n",
    "    \n",
    "    print(\"The taken path is\")\n",
    "    print(a.path)\n",
    "    print(\"The number of steps taken are:%d\"%a.steps)\n",
    "    x,y=zip(*a.path)\n",
    "    plt.xlim((-20,20))\n",
    "    plt.ylim((-20,20))\n",
    "    plt.plot(x,y,color=color_list[j])\n",
    "    plt.plot(x,y,'or')\n",
    "plt.show()\n"
   ]
  },
  {
   "cell_type": "code",
   "execution_count": null,
   "metadata": {},
   "outputs": [],
   "source": []
  },
  {
   "cell_type": "markdown",
   "metadata": {},
   "source": [
    "### Problem 4 - Inverse Transform Sampling (10 Points)\n",
    "\n",
    "Random sample for any distribution can be generated from a random sample from uniform distribution. This can be done using **Inverse transform Sampling**. For example, suppose you want to create a sample of size $n$ from a _Kumaraswamy distribution_. To obtain this sample:\n",
    "1. Generate a sample of size $n$ from Uniform[0,1].\n",
    "2. Identify the inverse of the CDF function of the distribution of your choice (this needs to be done manually and implemented). In our example, it is Kumaraswamy distribution. Call this function ``inverseCDFKumaraswamy()``. Note that you are not allowed to use any routines from ``np.random`` package except ``np.random.uniform``here. This function should take two arguments, first is the sample point, and the second is the distribution parameter value, $\\alpha$ and $\\beta$.\n",
    "3. Apply the ``inverseCDFKumaraswamy()`` function on each of the $n$ sample points that you generated in step 1. The $n$ outputs will be the sample from your desired distribution. \n",
    "\n",
    "The Probability Density Function (PDF) of the Kumaraswamy distribution is\n",
    "$$f(x)=\\alpha*\\beta*x^{\\alpha-1}*(1-x^\\alpha)^{\\beta-1}$$\n",
    "\n",
    "The Cumulative Distribution Function (CDF) of the Kumaraswamy distribution is\n",
    "$$F(x)= 1-(1-x^\\alpha)^\\beta$$\n",
    "\n",
    "Using the above implementation, generate a sample of size 100 from a Kumaraswamy ($\\alpha=2$, $\\beta=5$) distribution.\n",
    "\n",
    "Your output must include the mean, variance and distribution plot (a histogram) for the generated sample. "
   ]
  },
  {
   "cell_type": "code",
   "execution_count": 30,
   "metadata": {},
   "outputs": [],
   "source": [
    "#Enter your solution here"
   ]
  },
  {
   "cell_type": "code",
   "execution_count": 31,
   "metadata": {},
   "outputs": [],
   "source": [
    "import numpy as np"
   ]
  },
  {
   "cell_type": "code",
   "execution_count": 32,
   "metadata": {},
   "outputs": [],
   "source": [
    "import seaborn as sns"
   ]
  },
  {
   "cell_type": "code",
   "execution_count": 33,
   "metadata": {},
   "outputs": [],
   "source": [
    "import matplotlib.pyplot as plt"
   ]
  },
  {
   "cell_type": "code",
   "execution_count": 34,
   "metadata": {},
   "outputs": [],
   "source": [
    "%matplotlib inline"
   ]
  },
  {
   "cell_type": "code",
   "execution_count": 35,
   "metadata": {},
   "outputs": [],
   "source": [
    "x=np.random.uniform(0,1,100)"
   ]
  },
  {
   "cell_type": "code",
   "execution_count": 36,
   "metadata": {},
   "outputs": [],
   "source": [
    "inverseCDF= [0] * 100  ## making a list of 100 zeros"
   ]
  },
  {
   "cell_type": "code",
   "execution_count": 37,
   "metadata": {},
   "outputs": [],
   "source": [
    "def inverseCDFKumaraswamy(x,beta,alpha):\n",
    "    y=(1-((1-x)**(1/beta)))**(1/alpha)\n",
    "    return y"
   ]
  },
  {
   "cell_type": "code",
   "execution_count": 38,
   "metadata": {},
   "outputs": [],
   "source": [
    "alpha=2"
   ]
  },
  {
   "cell_type": "code",
   "execution_count": 39,
   "metadata": {},
   "outputs": [],
   "source": [
    "beta=5"
   ]
  },
  {
   "cell_type": "code",
   "execution_count": 40,
   "metadata": {},
   "outputs": [],
   "source": [
    "for i in range(0,100):                                ## applying the random uniform sample on inverseCDFKumaraswamy\n",
    "    inverseCDF[i]=inverseCDFKumaraswamy(x[i],5,2)"
   ]
  },
  {
   "cell_type": "code",
   "execution_count": 41,
   "metadata": {},
   "outputs": [
    {
     "name": "stdout",
     "output_type": "stream",
     "text": [
      "Mean of Kumaraswamy Distribution: 0.35500167443293285\n"
     ]
    }
   ],
   "source": [
    "print(\"Mean of Kumaraswamy Distribution:\",np.mean(inverseCDF))"
   ]
  },
  {
   "cell_type": "code",
   "execution_count": 42,
   "metadata": {},
   "outputs": [
    {
     "name": "stdout",
     "output_type": "stream",
     "text": [
      "Variance of Kumaraswamy Distribution: 0.02919078336531598\n"
     ]
    }
   ],
   "source": [
    "print(\"Variance of Kumaraswamy Distribution:\",np.var(inverseCDF))"
   ]
  },
  {
   "cell_type": "code",
   "execution_count": 43,
   "metadata": {},
   "outputs": [
    {
     "name": "stderr",
     "output_type": "stream",
     "text": [
      "C:\\Users\\Jaideep\\Anaconda3\\lib\\site-packages\\matplotlib\\axes\\_axes.py:6462: UserWarning: The 'normed' kwarg is deprecated, and has been replaced by the 'density' kwarg.\n",
      "  warnings.warn(\"The 'normed' kwarg is deprecated, and has been \"\n"
     ]
    },
    {
     "data": {
      "text/plain": [
       "(array([1.05727428, 0.66079643, 1.58591142, 2.37886713, 2.51102642,\n",
       "        1.71807071, 1.45375214, 0.925115  , 0.66079643, 0.26431857]),\n",
       " array([0.01441021, 0.09007648, 0.16574275, 0.24140902, 0.31707529,\n",
       "        0.39274156, 0.46840783, 0.5440741 , 0.61974037, 0.69540663,\n",
       "        0.7710729 ]),\n",
       " <a list of 10 Patch objects>)"
      ]
     },
     "execution_count": 43,
     "metadata": {},
     "output_type": "execute_result"
    },
    {
     "data": {
      "image/png": "[encoded data removed]",
      "text/plain": [
       "<Figure size 432x288 with 1 Axes>"
      ]
     },
     "metadata": {},
     "output_type": "display_data"
    }
   ],
   "source": [
    "plt.hist(inverseCDF,normed=True,bins=10)"
   ]
  },
  {
   "cell_type": "code",
   "execution_count": 44,
   "metadata": {},
   "outputs": [
    {
     "name": "stderr",
     "output_type": "stream",
     "text": [
      "C:\\Users\\Jaideep\\Anaconda3\\lib\\site-packages\\matplotlib\\axes\\_axes.py:6462: UserWarning: The 'normed' kwarg is deprecated, and has been replaced by the 'density' kwarg.\n",
      "  warnings.warn(\"The 'normed' kwarg is deprecated, and has been \"\n"
     ]
    },
    {
     "data": {
      "image/png": "[encoded data removed]",
      "text/plain": [
       "<Figure size 432x288 with 1 Axes>"
      ]
     },
     "metadata": {},
     "output_type": "display_data"
    }
   ],
   "source": [
    "sns.set(color_codes=True)              ## another plot using seaborn package to see the distribution\n",
    "sns.distplot(inverseCDF);"
   ]
  },
  {
   "cell_type": "code",
   "execution_count": null,
   "metadata": {},
   "outputs": [],
   "source": []
  },
  {
   "cell_type": "code",
   "execution_count": null,
   "metadata": {},
   "outputs": [],
   "source": []
  },
  {
   "cell_type": "code",
   "execution_count": null,
   "metadata": {},
   "outputs": [],
   "source": []
  },
  {
   "cell_type": "code",
   "execution_count": null,
   "metadata": {},
   "outputs": [],
   "source": []
  },
  {
   "cell_type": "code",
   "execution_count": null,
   "metadata": {},
   "outputs": [],
   "source": []
  }
 ],
 "metadata": {
  "kernelspec": {
   "display_name": "Python 3",
   "language": "python",
   "name": "python3"
  },
  "language_info": {
   "codemirror_mode": {
    "name": "ipython",
    "version": 3
   },
   "file_extension": ".py",
   "mimetype": "text/x-python",
   "name": "python",
   "nbconvert_exporter": "python",
   "pygments_lexer": "ipython3",
   "version": "3.6.5"
  }
 },
 "nbformat": 4,
 "nbformat_minor": 2
}
